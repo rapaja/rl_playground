{
 "cells": [
  {
   "cell_type": "code",
   "execution_count": 5,
   "id": "829663e9-06b1-4de3-a4c7-92126678e95f",
   "metadata": {},
   "outputs": [],
   "source": [
    "from abc import ABC, abstractmethod\n",
    "from typing import Iterable\n",
    "\n",
    "import numpy as np\n",
    "import matplotlib.pyplot as plt"
   ]
  },
  {
   "cell_type": "code",
   "execution_count": 24,
   "id": "9d782d4a-fcba-40bb-bcea-ffd240a78ab4",
   "metadata": {},
   "outputs": [],
   "source": [
    "class Cell(ABC):\n",
    "\n",
    "    @abstractmethod\n",
    "    def get_reward(self) -> float:\n",
    "        pass\n",
    "\n",
    "    def is_steppable(self) -> bool:\n",
    "        return True\n",
    "\n",
    "    def is_terminal(self) -> bool:\n",
    "        return False\n",
    "\n",
    "    def has_value(self) -> bool:\n",
    "        return True"
   ]
  },
  {
   "cell_type": "code",
   "execution_count": 49,
   "id": "d53c01a3-3cce-4743-b79b-da550d272e04",
   "metadata": {},
   "outputs": [],
   "source": [
    "class RegularCell(Cell):\n",
    "\n",
    "    def __init__(self, reward: float):\n",
    "        self.reward = reward\n",
    "\n",
    "    def get_reward(self) -> float:\n",
    "        return self.reward\n",
    "\n",
    "\n",
    "class TerminalCell(Cell):\n",
    "\n",
    "    def __init__(self, reward: float):\n",
    "        self.reward = reward\n",
    "\n",
    "    def get_reward(self) -> float:\n",
    "        return self.reward\n",
    "\n",
    "    def is_terminal(self) -> bool:\n",
    "        return True\n",
    "\n",
    "    def has_value(self) -> bool:\n",
    "        return False\n",
    "\n",
    "\n",
    "class WallCell(Cell):\n",
    "\n",
    "    def get_reward(self) -> float:\n",
    "        return 0\n",
    "\n",
    "    def is_steppable(self) -> bool:\n",
    "        return False\n",
    "\n",
    "    def has_value(self) -> bool:\n",
    "        return False"
   ]
  },
  {
   "cell_type": "code",
   "execution_count": 50,
   "id": "65ceb74f-355b-4cbd-b701-9da880bee57a",
   "metadata": {},
   "outputs": [],
   "source": [
    "class Board:\n",
    "\n",
    "    @staticmethod\n",
    "    def process_cells(cells: list[list[Cell]]):\n",
    "        cells = [list(row) for row in cells] if cells else []\n",
    "        if not cells:\n",
    "            raise Exception(\"Number of rows in a board must be at least one.\")\n",
    "        if not cells[0]:\n",
    "            raise Exception(\"There has to be at least one column.\")\n",
    "        rows_no = len(cells)\n",
    "        cols_no = len(cells[0])\n",
    "        for row in cells:\n",
    "            if not row or len(row) != cols_no:\n",
    "                raise Exception(\n",
    "                    \"Each row in a a board must have the same number of columns. \")\n",
    "        return rows_no, cols_no, cells\n",
    "\n",
    "    def process_pos(self, pos):\n",
    "        r, c = pos\n",
    "        if r < 0 or r >= self.rows_no:\n",
    "            raise Exception(\"Invalid row position.\")\n",
    "        if c < 0 or c >= self.cols_no:\n",
    "            raise Exception(\"Invalid column position.\")\n",
    "        if not cells[r][c].is_steppable():\n",
    "            raise Exception(\"Invalid position: unsteppable cell.\")\n",
    "        return r, c\n",
    "    \n",
    "    def __init__(self, cells: Iterable[Iterable[Cell]], pos: tuple[int, int]):\n",
    "        rows_no, cols_no, cells = Board.process_cells(cells)\n",
    "        self.cells = cells\n",
    "        self.rows_no = rows_no\n",
    "        self.cols_no = cols_no\n",
    "        r, c = self.process_pos(pos)\n",
    "        self.row = r\n",
    "        self.col = c\n",
    "\n",
    "    def __getitem__(self, key: tuple[int, int]) -> Cell:\n",
    "        r, c = key\n",
    "        return self.cells[r][c]"
   ]
  },
  {
   "cell_type": "code",
   "execution_count": 51,
   "id": "a83a2170-36a4-48fa-a320-6cfd4a9d6944",
   "metadata": {},
   "outputs": [],
   "source": [
    "def int_to_cell(code: int) -> Cell:\n",
    "    if code == 0:\n",
    "        return RegularCell(-1)\n",
    "    elif code == 1:\n",
    "        return RegularCell(-10)\n",
    "    elif code == 2:\n",
    "        return WallCell()\n",
    "    elif code == 3:\n",
    "        return TerminalCell(-1)"
   ]
  },
  {
   "cell_type": "code",
   "execution_count": 52,
   "id": "3a5315cd-8d28-4697-95d1-a4573bfa10bc",
   "metadata": {},
   "outputs": [
    {
     "name": "stdout",
     "output_type": "stream",
     "text": [
      "[[0 0 2 0 3 3 0 0]\n",
      " [0 0 0 0 0 1 0 3]\n",
      " [0 2 0 0 0 2 0 0]\n",
      " [0 3 2 2 0 0 3 0]\n",
      " [0 0 0 3 1 3 0 2]\n",
      " [3 0 2 0 0 1 1 0]\n",
      " [0 0 2 0 0 0 0 0]\n",
      " [0 0 3 2 0 0 2 0]]\n"
     ]
    }
   ],
   "source": [
    "cell_codes = np.random.choice(4, size=(8, 8), p=[0.7, 0.1, 0.1, 0.1])\n",
    "print(cell_codes)"
   ]
  },
  {
   "cell_type": "code",
   "execution_count": 53,
   "id": "57c3e7f2-d7fa-4a19-bfe2-2bc967d5b390",
   "metadata": {},
   "outputs": [],
   "source": [
    "def draw_board(board: Board):\n",
    "    board_img = np.ones(shape=(board.rows_no, board.cols_no, 3), dtype=np.uint8)    \n",
    "    for i in range(board.rows_no):\n",
    "        for j in range(board.cols_no):\n",
    "            if isinstance(board[i, j], RegularCell):\n",
    "                if board[i, j].get_reward() == -1:\n",
    "                    board_img[i, j, :] = [255, 255, 255]\n",
    "                else:\n",
    "                    board_img[i, j, :] = [255, 0, 0]\n",
    "            elif isinstance(board[i, j], WallCell):\n",
    "                board_img[i, j, :] = [0, 0, 0]\n",
    "            else:\n",
    "                board_img[i, j, :] = [0, 0, 255]\n",
    "        plt.imshow(board_img)"
   ]
  },
  {
   "cell_type": "code",
   "execution_count": 54,
   "id": "05622dea-4726-4a32-81cd-b7d8bf042a6f",
   "metadata": {},
   "outputs": [],
   "source": [
    "cells = [[int_to_cell(cell_codes[i, j]) for i in range(cell_codes.shape[0])] for j in range(cell_codes.shape[1])]"
   ]
  },
  {
   "cell_type": "code",
   "execution_count": 59,
   "id": "3ae5b145-2057-4b55-98c8-a3a1fa941dfb",
   "metadata": {},
   "outputs": [
    {
     "data": {
      "text/plain": [
       "[[<__main__.RegularCell at 0x124361150>,\n",
       "  <__main__.RegularCell at 0x124360fd0>,\n",
       "  <__main__.WallCell at 0x1243614b0>,\n",
       "  <__main__.RegularCell at 0x124363d90>,\n",
       "  <__main__.TerminalCell at 0x124363d30>,\n",
       "  <__main__.TerminalCell at 0x124363b20>,\n",
       "  <__main__.RegularCell at 0x1243611e0>,\n",
       "  <__main__.RegularCell at 0x124363af0>,\n",
       "  <__main__.RegularCell at 0x124362c20>,\n",
       "  <__main__.RegularCell at 0x124363a60>,\n",
       "  <__main__.RegularCell at 0x124363e20>,\n",
       "  <__main__.RegularCell at 0x124363d00>,\n",
       "  <__main__.RegularCell at 0x124361330>,\n",
       "  <__main__.RegularCell at 0x124362ce0>,\n",
       "  <__main__.RegularCell at 0x1243621a0>,\n",
       "  <__main__.TerminalCell at 0x124362da0>,\n",
       "  <__main__.RegularCell at 0x124363610>,\n",
       "  <__main__.WallCell at 0x124363820>,\n",
       "  <__main__.RegularCell at 0x124362290>,\n",
       "  <__main__.RegularCell at 0x124360190>,\n",
       "  <__main__.RegularCell at 0x1243610f0>,\n",
       "  <__main__.WallCell at 0x124363c40>,\n",
       "  <__main__.RegularCell at 0x124363df0>,\n",
       "  <__main__.RegularCell at 0x1243633d0>,\n",
       "  <__main__.RegularCell at 0x124360f40>,\n",
       "  <__main__.TerminalCell at 0x1243602b0>,\n",
       "  <__main__.WallCell at 0x124362e30>,\n",
       "  <__main__.WallCell at 0x124360310>,\n",
       "  <__main__.RegularCell at 0x1243615d0>,\n",
       "  <__main__.RegularCell at 0x124362410>,\n",
       "  <__main__.TerminalCell at 0x1243630a0>,\n",
       "  <__main__.RegularCell at 0x124360b20>,\n",
       "  <__main__.RegularCell at 0x124363c10>,\n",
       "  <__main__.RegularCell at 0x1243637c0>,\n",
       "  <__main__.RegularCell at 0x124361720>,\n",
       "  <__main__.TerminalCell at 0x124360550>,\n",
       "  <__main__.RegularCell at 0x124361030>,\n",
       "  <__main__.TerminalCell at 0x124361b40>,\n",
       "  <__main__.RegularCell at 0x1243605e0>,\n",
       "  <__main__.WallCell at 0x1243639d0>,\n",
       "  <__main__.TerminalCell at 0x124362fb0>,\n",
       "  <__main__.RegularCell at 0x124362260>,\n",
       "  <__main__.WallCell at 0x1243629b0>,\n",
       "  <__main__.RegularCell at 0x124363a30>,\n",
       "  <__main__.RegularCell at 0x1243635e0>,\n",
       "  <__main__.RegularCell at 0x124361390>,\n",
       "  <__main__.RegularCell at 0x124361270>,\n",
       "  <__main__.RegularCell at 0x124361840>,\n",
       "  <__main__.RegularCell at 0x124363a00>,\n",
       "  <__main__.RegularCell at 0x1243602e0>,\n",
       "  <__main__.WallCell at 0x124361600>,\n",
       "  <__main__.RegularCell at 0x124362590>,\n",
       "  <__main__.RegularCell at 0x124360b80>,\n",
       "  <__main__.RegularCell at 0x124360be0>,\n",
       "  <__main__.RegularCell at 0x124361de0>,\n",
       "  <__main__.RegularCell at 0x124363700>,\n",
       "  <__main__.RegularCell at 0x1243607f0>,\n",
       "  <__main__.RegularCell at 0x1243637f0>,\n",
       "  <__main__.TerminalCell at 0x124360130>,\n",
       "  <__main__.WallCell at 0x124363ca0>,\n",
       "  <__main__.RegularCell at 0x124361300>,\n",
       "  <__main__.RegularCell at 0x1243618d0>,\n",
       "  <__main__.WallCell at 0x124361930>,\n",
       "  <__main__.RegularCell at 0x124361cf0>]]"
      ]
     },
     "execution_count": 59,
     "metadata": {},
     "output_type": "execute_result"
    }
   ],
   "source": [
    "board = Board(cells, (0, 0))\n",
    "cells"
   ]
  },
  {
   "cell_type": "code",
   "execution_count": 56,
   "id": "da5de353-e546-435a-b529-f35494806b61",
   "metadata": {},
   "outputs": [
    {
     "data": {
      "image/png": "[encoded data removed]",
      "text/plain": [
       "<Figure size 640x480 with 1 Axes>"
      ]
     },
     "metadata": {},
     "output_type": "display_data"
    }
   ],
   "source": [
    "draw_board(board)"
   ]
  },
  {
   "cell_type": "code",
   "execution_count": null,
   "id": "da54f3fd-e280-464b-b992-70ed04755c0d",
   "metadata": {},
   "outputs": [],
   "source": []
  }
 ],
 "metadata": {
  "kernelspec": {
   "display_name": "Python 3 (ipykernel)",
   "language": "python",
   "name": "python3"
  },
  "language_info": {
   "codemirror_mode": {
    "name": "ipython",
    "version": 3
   },
   "file_extension": ".py",
   "mimetype": "text/x-python",
   "name": "python",
   "nbconvert_exporter": "python",
   "pygments_lexer": "ipython3",
   "version": "3.10.13"
  }
 },
 "nbformat": 4,
 "nbformat_minor": 5
}
