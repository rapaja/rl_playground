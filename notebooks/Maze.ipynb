{
 "cells": [
  {
   "cell_type": "code",
   "execution_count": 5,
   "id": "829663e9-06b1-4de3-a4c7-92126678e95f",
   "metadata": {},
   "outputs": [],
   "source": [
    "from abc import ABC, abstractmethod\n",
    "import numpy as np\n",
    "import matplotlib.pyplot as plt"
   ]
  },
  {
   "cell_type": "code",
   "execution_count": 2,
   "id": "9d782d4a-fcba-40bb-bcea-ffd240a78ab4",
   "metadata": {},
   "outputs": [],
   "source": [
    "class Cell(ABC):\n",
    "\n",
    "    @abstractmethod\n",
    "    def get_reward() -> float:\n",
    "        pass"
   ]
  },
  {
   "cell_type": "code",
   "execution_count": 3,
   "id": "d53c01a3-3cce-4743-b79b-da550d272e04",
   "metadata": {},
   "outputs": [],
   "source": [
    "class RegularCell(Cell):\n",
    "\n",
    "    def __init__(self, reward: float):\n",
    "        self.reward = reward\n",
    "\n",
    "    def get_reward() -> float:\n",
    "        return self.reward\n",
    "\n",
    "\n",
    "class TerminalCell(Cell):\n",
    "\n",
    "    def __init__(self, reward: float):\n",
    "        self.reward = reward\n",
    "\n",
    "    def get_reward() -> float:\n",
    "        return self.reward\n",
    "\n",
    "\n",
    "class WallCell(Cell):\n",
    "\n",
    "    def get_reward() -> float:\n",
    "        return 0"
   ]
  },
  {
   "cell_type": "code",
   "execution_count": null,
   "id": "65ceb74f-355b-4cbd-b701-9da880bee57a",
   "metadata": {},
   "outputs": [],
   "source": [
    "class Board:\n",
    "\n",
    "    @staticmethod\n",
    "    def process_cells(cells: list[list[Cell]]):\n",
    "        if not cells:\n",
    "            raise Exception(\"Number of rows in a board must be at least one.\")\n",
    "        if not cells[0]:\n",
    "            raise Exception(\n",
    "                \"Each row in a a board must have the same number of columns. \"\n",
    "                \"There has to be at least one column.\")\n",
    "        rows_no = len(cells)\n",
    "        cols_no = len(cells[0])\n",
    "        for row in cells:\n",
    "            if not row or len(row) != cols_no:\n",
    "                raise Exception(\n",
    "                    \"Each row in a a board must have the same number of columns. \"\n",
    "                    \"There has to be at least one column.\")\n",
    "        return rows_no, cols_no\n",
    "\n",
    "    @staticmethod\n",
    "    def process_pos(pos, rows_no, cols_no):\n",
    "        r, c = pos\n",
    "        if r < 0 or r >= rows_no:\n",
    "            raise Exception(\"Invalid row position.\")\n",
    "        if c < 0 or c >= cols_no:\n",
    "            raise Exception(\"Invalid column position.\")\n",
    "        # proverity da li se nalazimo na zidu!!!\n",
    "        return r, c\n",
    "    \n",
    "    def __init__(cells: list[list[Cell]], pos: tuple[int, int]):\n",
    "        rows_no, cols_no = Board.process_cells(cells)\n",
    "        self.cells = cells\n",
    "        self.rows_no = rows_no\n",
    "        self.cols_no = cols_no\n",
    "        r, c = Board.process_pos(pos, rows_no, cols_no)\n",
    "        self.row = r\n",
    "        self.col = c"
   ]
  },
  {
   "cell_type": "code",
   "execution_count": 8,
   "id": "3a5315cd-8d28-4697-95d1-a4573bfa10bc",
   "metadata": {},
   "outputs": [
    {
     "data": {
      "text/plain": [
       "<matplotlib.image.AxesImage at 0x1220a77f0>"
      ]
     },
     "execution_count": 8,
     "metadata": {},
     "output_type": "execute_result"
    },
    {
     "data": {
      "image/png": "[encoded data removed]",
      "text/plain": [
       "<Figure size 640x480 with 1 Axes>"
      ]
     },
     "metadata": {},
     "output_type": "display_data"
    }
   ],
   "source": [
    "board = np.ones(shape=(6, 6, 3), dtype=np.uint8)\n",
    "for i in range(6):\n",
    "    for j in range(6):\n",
    "        if (i+j) % 2 == 0:\n",
    "            board[i, j, :] = [255, 0, 0]\n",
    "        else:\n",
    "            board[i, j, :] = [0, 0, 255]\n",
    "\n",
    "plt.imshow(board)"
   ]
  },
  {
   "cell_type": "code",
   "execution_count": null,
   "id": "57c3e7f2-d7fa-4a19-bfe2-2bc967d5b390",
   "metadata": {},
   "outputs": [],
   "source": []
  }
 ],
 "metadata": {
  "kernelspec": {
   "display_name": "Python 3 (ipykernel)",
   "language": "python",
   "name": "python3"
  },
  "language_info": {
   "codemirror_mode": {
    "name": "ipython",
    "version": 3
   },
   "file_extension": ".py",
   "mimetype": "text/x-python",
   "name": "python",
   "nbconvert_exporter": "python",
   "pygments_lexer": "ipython3",
   "version": "3.10.13"
  }
 },
 "nbformat": 4,
 "nbformat_minor": 5
}
