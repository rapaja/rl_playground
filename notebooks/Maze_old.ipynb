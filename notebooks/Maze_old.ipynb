{
 "cells": [
  {
   "cell_type": "markdown",
   "id": "7b6bb4be-37c9-44b4-900a-6eb78e1db712",
   "metadata": {},
   "source": [
    "# Maze Solver"
   ]
  },
  {
   "cell_type": "markdown",
   "id": "2c86c1a6-3d08-48bd-85e1-0f0cf830e3e3",
   "metadata": {},
   "source": [
    "A **maze** is a rectangular array of cells. The **agent** may move across the cells of the mase. By stepping into a cell, the agent receives a reward (or pays a penalty). Some cells are **terminal**, when stepping into a terminal cell the agent finishes the game (exits the maze). The **goal** of the agent is to maximize the total cummulative reward (minimize the total cummulative loss).\n",
    "\n",
    "In addition to **regular** and **terminal** cells, there are also **walls**: walls are forbidden areas of the maze. The agent canot step onto a wall cell."
   ]
  },
  {
   "cell_type": "markdown",
   "id": "8797245c-4176-41ac-827d-50c450041771",
   "metadata": {},
   "source": [
    "<div class=\"alert alert-block alert-info\">\n",
    "<b>The Assignment:</b> \n",
    "Implement the maze environment and develop optimal decision policy for moving across the maze.\n",
    "</div>"
   ]
  },
  {
   "cell_type": "markdown",
   "id": "71784cd6-893d-4db2-b53f-46fdd7ddf7c3",
   "metadata": {},
   "source": [
    "## Basic Imports"
   ]
  },
  {
   "cell_type": "code",
   "execution_count": 1,
   "id": "829663e9-06b1-4de3-a4c7-92126678e95f",
   "metadata": {},
   "outputs": [],
   "source": [
    "from abc import ABC, abstractmethod\n",
    "from typing import Iterable\n",
    "from copy import copy\n",
    "\n",
    "import numpy as np\n",
    "import matplotlib.pyplot as plt\n",
    "\n",
    "from random import random"
   ]
  },
  {
   "cell_type": "markdown",
   "id": "a22dd10b-062f-418c-838d-cbf10e07911d",
   "metadata": {},
   "source": [
    "## The Maze"
   ]
  },
  {
   "cell_type": "markdown",
   "id": "6a6abf61-9d36-4d4a-8fd8-c0595fa6c762",
   "metadata": {},
   "source": [
    "Let us implement the maze first, so that later we can implement solution algorithm(s).\n",
    "\n",
    "We will start by implementing individual cells, and the we will collect them all within a single maze board."
   ]
  },
  {
   "cell_type": "markdown",
   "id": "0884f03b-6180-467e-a470-dafa7ca07f9e",
   "metadata": {},
   "source": [
    "### Implementing Individual Cells"
   ]
  },
  {
   "cell_type": "code",
   "execution_count": 2,
   "id": "9d782d4a-fcba-40bb-bcea-ffd240a78ab4",
   "metadata": {},
   "outputs": [],
   "source": [
    "class Cell(ABC):\n",
    "    \"\"\"Abstract base class for all maze cells.\"\"\"\n",
    "\n",
    "    @abstractmethod\n",
    "    def get_reward(self) -> float:\n",
    "        \"\"\"The reward an agent receives when stepping onto this cell.\"\"\"\n",
    "        pass\n",
    "\n",
    "    def is_steppable(self) -> bool:\n",
    "        \"\"\"Checks if an agent can step onto this cell.\n",
    "\n",
    "        Regular and terminal cells are steppable.\n",
    "        Walls are not steppable.\n",
    "        \"\"\"\n",
    "        return True\n",
    "\n",
    "    def is_terminal(self) -> bool:\n",
    "        \"\"\"Checks if the cell is terminal.\n",
    "\n",
    "        When stepping onto a terminal cell the agent exits\n",
    "        the maze and finishes the game.\n",
    "        \"\"\"\n",
    "        return False\n",
    "\n",
    "    def has_value(self) -> bool:\n",
    "        \"\"\"Check if the cell has value.\n",
    "        \n",
    "        The value is defined for regular cells and terminal cells,\n",
    "        but not for walls. \n",
    "        \"\"\"\n",
    "        return True"
   ]
  },
  {
   "cell_type": "markdown",
   "id": "1156dbd8-ec33-41ff-a923-7d0e29184cfa",
   "metadata": {},
   "source": [
    "We will use the `Cell` class to derive all other cell classes. Please note that it may seem that `is_steppable` and `has_value` are essentially synonims, but this is not true in general.\n",
    "\n",
    "Consider for example **teleport cells**. When stepping onto such a cell the agent is instantinuously transported into another, linked cell. Such a cell is different from the cell to which it is linked. It has a distinct geometrical location, and is steppable. However, from routing point of view it is just an alias for the linked cell, and so there is no reason for it to have a distinct value."
   ]
  },
  {
   "cell_type": "markdown",
   "id": "1c2916c6-3c78-489a-bcc2-e56bff41acc7",
   "metadata": {},
   "source": [
    "Let us now implement some basic types of cells:"
   ]
  },
  {
   "cell_type": "code",
   "execution_count": 3,
   "id": "d53c01a3-3cce-4743-b79b-da550d272e04",
   "metadata": {},
   "outputs": [],
   "source": [
    "class RegularCell(Cell):\n",
    "    \"\"\"A common, non-terminal, steppable cell.\"\"\"\n",
    "\n",
    "    def __init__(self, reward: float):\n",
    "        self.reward = reward\n",
    "\n",
    "    def get_reward(self) -> float:\n",
    "        return self.reward\n",
    "\n",
    "\n",
    "class TerminalCell(Cell):\n",
    "    \"\"\"A terminal cell.\"\"\"\n",
    "\n",
    "    def __init__(self, reward: float):\n",
    "        self.reward = reward\n",
    "\n",
    "    def get_reward(self) -> float:\n",
    "        return self.reward\n",
    "\n",
    "    def is_terminal(self) -> bool:\n",
    "        return True\n",
    "\n",
    "    def has_value(self) -> bool:\n",
    "        return False\n",
    "\n",
    "\n",
    "class WallCell(Cell):\n",
    "    \"\"\"A non-steppable cell.\"\"\"\n",
    "\n",
    "    def get_reward(self) -> float:\n",
    "        return 0\n",
    "\n",
    "    def is_steppable(self) -> bool:\n",
    "        return False\n",
    "\n",
    "    def has_value(self) -> bool:\n",
    "        return False"
   ]
  },
  {
   "cell_type": "markdown",
   "id": "4a193a73-4b67-43e1-ab84-f7b1064c4f43",
   "metadata": {},
   "source": [
    "### Implementing the Maze Board"
   ]
  },
  {
   "cell_type": "markdown",
   "id": "7f3d9c15-711b-4b49-b0de-ebddc71464ac",
   "metadata": {},
   "source": [
    "The maze board is essentially a rectangular grid of cells. The board is not concerned with the type of individual cells, it is only interested in their relative arrangement."
   ]
  },
  {
   "cell_type": "code",
   "execution_count": 4,
   "id": "65ceb74f-355b-4cbd-b701-9da880bee57a",
   "metadata": {},
   "outputs": [],
   "source": [
    "class Board:\n",
    "\n",
    "    @staticmethod\n",
    "    def process_cells(cells: list[list[Cell]]):\n",
    "        cells = [list(row) for row in cells] if cells else []\n",
    "        if not cells:\n",
    "            raise Exception(\"Number of rows in a board must be at least one.\")\n",
    "        if not cells[0]:\n",
    "            raise Exception(\"There has to be at least one column.\")\n",
    "        rows_no = len(cells)\n",
    "        cols_no = len(cells[0])\n",
    "        for row in cells:\n",
    "            if not row or len(row) != cols_no:\n",
    "                raise Exception(\n",
    "                    \"Each row in a a board must have the same number of columns. \")\n",
    "        return rows_no, cols_no, cells\n",
    "\n",
    "    def process_pos(self, pos):\n",
    "        r, c = pos\n",
    "        if r < 0 or r >= self.rows_no:\n",
    "            raise Exception(\"Invalid row position.\")\n",
    "        if c < 0 or c >= self.cols_no:\n",
    "            raise Exception(\"Invalid column position.\")\n",
    "        if not cells[r][c].is_steppable():\n",
    "            raise Exception(\"Invalid position: unsteppable cell.\")\n",
    "        return r, c\n",
    "    \n",
    "    def __init__(self, cells: Iterable[Iterable[Cell]], pos: tuple[int, int]):\n",
    "        rows_no, cols_no, cells = Board.process_cells(cells)\n",
    "        self.cells = cells\n",
    "        self.rows_no = rows_no\n",
    "        self.cols_no = cols_no\n",
    "        r, c = self.process_pos(pos)\n",
    "        self.row = r\n",
    "        self.col = c\n",
    "\n",
    "    def __getitem__(self, key: tuple[int, int]) -> Cell:\n",
    "        r, c = key\n",
    "        return self.cells[r][c]\n",
    "\n",
    "    def set_position(self, pos):\n",
    "        r, c = self.process_pos(pos)\n",
    "        self.row = r\n",
    "        self.col = c\n",
    "\n",
    "    def current(self):\n",
    "        return self[self.row, self.col]\n",
    "\n",
    "    def move_up(self):\n",
    "        if self.row != 0 and \\\n",
    "           self[self.row-1, self.col].is_steppable():\n",
    "            self.row = self.row-1\n",
    "\n",
    "    def move_down(self):\n",
    "        if self.row != self.rows_no-1 and \\\n",
    "           self[self.row+1, self.col].is_steppable():\n",
    "            self.row = self.row+1\n",
    "\n",
    "    def move_left(self):\n",
    "        if self.col != 0 and \\\n",
    "           self[self.row, self.col-1].is_steppable():\n",
    "            self.col = self.col-1\n",
    "\n",
    "    def move_right(self):\n",
    "        if self.col != self.cols_no-1 and \\\n",
    "           self[self.row, self.col+1].is_steppable():\n",
    "            self.col = self.col+1\n",
    "\n",
    "    def move(self, direction):\n",
    "        if direction == 0:\n",
    "            self.move_right()\n",
    "        elif direction == 1:\n",
    "            self.move_up()\n",
    "        elif direction == 2:\n",
    "            self.move_left()\n",
    "        elif direction == 3:\n",
    "            self.move_down()\n",
    "        else:\n",
    "            raise Exception(\"Invalid direction.\")\n",
    "\n",
    "    def get_states(self):\n",
    "        states = []\n",
    "        for r in range(self.rows_no):\n",
    "            for c in range(self.cols_no):\n",
    "                if self[r, c].is_steppable():\n",
    "                    states.append((r, c))\n",
    "        return states        "
   ]
  },
  {
   "cell_type": "code",
   "execution_count": 5,
   "id": "a83a2170-36a4-48fa-a320-6cfd4a9d6944",
   "metadata": {},
   "outputs": [],
   "source": [
    "def int_to_cell(code: int) -> Cell:\n",
    "    if code == 0:\n",
    "        return RegularCell(-1)\n",
    "    elif code == 1:\n",
    "        return RegularCell(-10)\n",
    "    elif code == 2:\n",
    "        return WallCell()\n",
    "    elif code == 3:\n",
    "        return TerminalCell(-1)"
   ]
  },
  {
   "cell_type": "code",
   "execution_count": 6,
   "id": "3a5315cd-8d28-4697-95d1-a4573bfa10bc",
   "metadata": {},
   "outputs": [
    {
     "name": "stdout",
     "output_type": "stream",
     "text": [
      "[[0 0 0 0 0 0 2 0]\n",
      " [0 0 0 1 3 0 0 0]\n",
      " [3 3 3 0 0 0 2 1]\n",
      " [0 2 3 2 0 0 0 0]\n",
      " [1 1 0 0 0 0 0 0]\n",
      " [0 0 3 0 0 0 1 0]\n",
      " [0 3 0 2 0 0 2 2]\n",
      " [0 1 0 0 0 0 2 1]]\n"
     ]
    }
   ],
   "source": [
    "cell_codes = np.random.choice(4, size=(8, 8), p=[0.7, 0.1, 0.1, 0.1])\n",
    "print(cell_codes)"
   ]
  },
  {
   "cell_type": "code",
   "execution_count": 7,
   "id": "57c3e7f2-d7fa-4a19-bfe2-2bc967d5b390",
   "metadata": {},
   "outputs": [],
   "source": [
    "def draw_board(board: Board, draw_pos=True):\n",
    "    board_img = np.ones(shape=(board.rows_no, board.cols_no, 3), dtype=np.uint8)    \n",
    "    for i in range(board.rows_no):\n",
    "        for j in range(board.cols_no):\n",
    "            if isinstance(board[i, j], RegularCell):\n",
    "                if board[i, j].get_reward() == -1:\n",
    "                    board_img[i, j, :] = [255, 255, 255] # Regular cell\n",
    "                else:\n",
    "                    board_img[i, j, :] = [255, 0, 0] # Regular cell with penalty\n",
    "            elif isinstance(board[i, j], WallCell):\n",
    "                board_img[i, j, :] = [0, 0, 0] # Wall cell\n",
    "            else:\n",
    "                board_img[i, j, :] = [0, 0, 255] # Terminal cell\n",
    "    # board_img[board.row, board.col, :] = [255, 255, 0]\n",
    "    plt.imshow(board_img)\n",
    "    if draw_pos:\n",
    "        plt.text(board.col-0.1, board.row+0.1, \"X\", fontweight=\"bold\")"
   ]
  },
  {
   "cell_type": "code",
   "execution_count": 8,
   "id": "05622dea-4726-4a32-81cd-b7d8bf042a6f",
   "metadata": {},
   "outputs": [],
   "source": [
    "cells = [[int_to_cell(cell_codes[i, j]) for i in range(cell_codes.shape[0])] for j in range(cell_codes.shape[1])]"
   ]
  },
  {
   "cell_type": "code",
   "execution_count": 9,
   "id": "3ae5b145-2057-4b55-98c8-a3a1fa941dfb",
   "metadata": {},
   "outputs": [],
   "source": [
    "board = Board(cells, (0, 0))"
   ]
  },
  {
   "cell_type": "code",
   "execution_count": 10,
   "id": "da5de353-e546-435a-b529-f35494806b61",
   "metadata": {},
   "outputs": [
    {
     "data": {
      "image/png": "[encoded data removed]",
      "text/plain": [
       "<Figure size 640x480 with 1 Axes>"
      ]
     },
     "metadata": {},
     "output_type": "display_data"
    }
   ],
   "source": [
    "draw_board(board)"
   ]
  },
  {
   "cell_type": "code",
   "execution_count": 11,
   "id": "4474f7a7-7bf0-41c9-b2e7-4bab96bb667f",
   "metadata": {},
   "outputs": [],
   "source": [
    "states = board.get_states()"
   ]
  },
  {
   "cell_type": "code",
   "execution_count": 12,
   "id": "57ffc276-58d9-45af-95ac-c1fe0f046a26",
   "metadata": {},
   "outputs": [],
   "source": [
    "values = {s: -10*random() for s in states}"
   ]
  },
  {
   "cell_type": "code",
   "execution_count": 13,
   "id": "251922c3-22ef-4610-bd81-30db4d2116aa",
   "metadata": {},
   "outputs": [],
   "source": [
    "for s in values:\n",
    "    if isinstance(board[s], TerminalCell):\n",
    "        values[s] = 0"
   ]
  },
  {
   "cell_type": "code",
   "execution_count": 14,
   "id": "849b164a-1aae-4b4f-a45d-cddfee6468e1",
   "metadata": {},
   "outputs": [
    {
     "data": {
      "text/plain": [
       "<__main__.RegularCell at 0x10f9a8f40>"
      ]
     },
     "execution_count": 14,
     "metadata": {},
     "output_type": "execute_result"
    }
   ],
   "source": [
    "board.current()"
   ]
  },
  {
   "cell_type": "code",
   "execution_count": 15,
   "id": "5ffa7233-9474-4527-9111-32a2f2287827",
   "metadata": {},
   "outputs": [],
   "source": [
    "def compute_update(board, s, values, gamma):\n",
    "    rhs = []\n",
    "    for a in [0, 1, 2, 3]:\n",
    "        board.set_position(s)\n",
    "        board.move(a)\n",
    "        rhs.append(board.current().get_reward() + gamma*values[(board.row, board.col)])\n",
    "    return max(rhs)"
   ]
  },
  {
   "cell_type": "code",
   "execution_count": 16,
   "id": "fcc35e42-74ad-492d-acba-89e0aa65af58",
   "metadata": {},
   "outputs": [],
   "source": [
    "def draw_values(board, values):\n",
    "    draw_board(board)\n",
    "    for s in values:\n",
    "        plt.text(s[1]-0.25, s[0]+0.1, f\"{values[s]:.1f}\")"
   ]
  },
  {
   "cell_type": "code",
   "execution_count": 17,
   "id": "97ad107e-80eb-4f33-9078-becca05b1759",
   "metadata": {},
   "outputs": [
    {
     "data": {
      "image/png": "[encoded data removed]",
      "text/plain": [
       "<Figure size 640x480 with 1 Axes>"
      ]
     },
     "metadata": {},
     "output_type": "display_data"
    }
   ],
   "source": [
    "draw_values(board, values)"
   ]
  },
  {
   "cell_type": "code",
   "execution_count": 18,
   "id": "a477b51b-49ce-4867-b9c4-6e35fc377718",
   "metadata": {},
   "outputs": [],
   "source": [
    "# new_values = copy(values)\n",
    "for s in board.get_states():\n",
    "    if not isinstance(board[s], TerminalCell):\n",
    "        # new_values[s] = compute_update(board, s, values, 1)\n",
    "        values[s] = compute_update(board, s, values, 1)\n",
    "# values = new_values"
   ]
  },
  {
   "cell_type": "code",
   "execution_count": 19,
   "id": "8df7a3a5-52cb-4cce-8ad1-74d2bf6ae4ca",
   "metadata": {},
   "outputs": [
    {
     "data": {
      "image/png": "[encoded data removed]",
      "text/plain": [
       "<Figure size 640x480 with 1 Axes>"
      ]
     },
     "metadata": {},
     "output_type": "display_data"
    }
   ],
   "source": [
    "draw_values(board, values)"
   ]
  },
  {
   "cell_type": "code",
   "execution_count": 20,
   "id": "a58e91f4-e27d-4e07-a415-1a6c12c7f7a4",
   "metadata": {},
   "outputs": [],
   "source": [
    "q_values = { (s, a) : -10*random() for s in states for a in range(4) }"
   ]
  },
  {
   "cell_type": "code",
   "execution_count": 21,
   "id": "864b1460-7f63-4ff1-94d6-44993f5faf8f",
   "metadata": {},
   "outputs": [],
   "source": [
    "def compute_q_update(board, s, a, q_values, gamma):\n",
    "    rhs = []\n",
    "    for a_next in [0, 1, 2, 3]:\n",
    "        board.set_position(s)\n",
    "        board.move(a)\n",
    "        r = board.current().get_reward()\n",
    "        rhs.append(r + gamma*q_values[((board.row, board.col), a_next)])\n",
    "    return max(rhs)"
   ]
  },
  {
   "cell_type": "code",
   "execution_count": 22,
   "id": "c94ebc1b-018b-404e-9a3e-4c3e93980a68",
   "metadata": {},
   "outputs": [],
   "source": [
    "for s in board.get_states():\n",
    "    if not isinstance(board[s], TerminalCell):\n",
    "        for a in range(4):\n",
    "            # new_values[s] = compute_update(board, s, values, 1)\n",
    "            q_values[(s, a)] = compute_q_update(board, s, a, q_values, 1)\n"
   ]
  }
 ],
 "metadata": {
  "kernelspec": {
   "display_name": "Python 3 (ipykernel)",
   "language": "python",
   "name": "python3"
  },
  "language_info": {
   "codemirror_mode": {
    "name": "ipython",
    "version": 3
   },
   "file_extension": ".py",
   "mimetype": "text/x-python",
   "name": "python",
   "nbconvert_exporter": "python",
   "pygments_lexer": "ipython3",
   "version": "3.10.13"
  }
 },
 "nbformat": 4,
 "nbformat_minor": 5
}
