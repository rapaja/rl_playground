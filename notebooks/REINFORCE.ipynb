{
 "cells": [
  {
   "cell_type": "markdown",
   "id": "dd64ee78-916d-4df3-8cb8-fb2fc2e144df",
   "metadata": {},
   "source": [
    "# REINFORCE Algorithm"
   ]
  },
  {
   "cell_type": "markdown",
   "id": "ee8dad86-eefa-4d90-b4e9-370867196f34",
   "metadata": {},
   "source": [
    "## Load Basic Dependencies"
   ]
  },
  {
   "cell_type": "code",
   "execution_count": 1,
   "id": "802cedd8-4e76-4b10-a633-72d9329f4db0",
   "metadata": {},
   "outputs": [],
   "source": [
    "import numpy as np\n",
    "import torch\n",
    "import matplotlib.pyplot as plt"
   ]
  },
  {
   "cell_type": "code",
   "execution_count": 2,
   "id": "e39c934f-0e1a-41ea-af2b-0b4b3da5c2f0",
   "metadata": {},
   "outputs": [],
   "source": [
    "from tqdm.notebook import trange"
   ]
  },
  {
   "cell_type": "markdown",
   "id": "e28bcb94-38c8-4299-a163-de8bd53b4dd7",
   "metadata": {},
   "source": [
    "## The Environment"
   ]
  },
  {
   "cell_type": "code",
   "execution_count": 3,
   "id": "be48d9cb-aef0-4175-9c12-00093f4fe9bf",
   "metadata": {},
   "outputs": [],
   "source": [
    "import gymnasium as gym"
   ]
  },
  {
   "cell_type": "markdown",
   "id": "f5c73574-793a-4eee-bd6a-867cd5effa3c",
   "metadata": {},
   "source": [
    "## Policy Network"
   ]
  },
  {
   "cell_type": "code",
   "execution_count": 4,
   "id": "f8251fac-056d-4e23-b5f8-6fe09ca57f3c",
   "metadata": {},
   "outputs": [],
   "source": [
    "def create_policy_network():\n",
    "    return torch.nn.Sequential(\n",
    "        torch.nn.Linear(4, 150),\n",
    "        torch.nn.LeakyReLU(),\n",
    "        torch.nn.Linear(150, 2),\n",
    "        torch.nn.Softmax(dim=0)\n",
    "    )"
   ]
  },
  {
   "cell_type": "code",
   "execution_count": 5,
   "id": "87c592e6-8c98-417d-ae39-193e02112670",
   "metadata": {},
   "outputs": [],
   "source": [
    "def discount_rewards(rewards, discount_factor):\n",
    "    ret = torch.pow(discount_factor, torch.arange(len(rewards)).float()) * rewards\n",
    "    return ret / torch.max(ret)"
   ]
  },
  {
   "cell_type": "code",
   "execution_count": 6,
   "id": "6d0cae96-45cc-4764-85aa-c450c0315063",
   "metadata": {},
   "outputs": [],
   "source": [
    "def loss_fn(action_probs, disc_rewards):\n",
    "    return -1 * torch.sum(disc_rewards * torch.log(action_probs))"
   ]
  },
  {
   "cell_type": "code",
   "execution_count": 7,
   "id": "f0eed028-b95b-4572-b2ea-2b01a04d466b",
   "metadata": {},
   "outputs": [],
   "source": [
    "def filter_timeseries(ts, p):\n",
    "    tsf = np.nan * np.ones_like(ts)\n",
    "    prev = ts[0]\n",
    "    for i, v in enumerate(ts):\n",
    "        tsf[i] = prev = p * prev + (1-p) * v\n",
    "    return tsf"
   ]
  },
  {
   "cell_type": "code",
   "execution_count": 8,
   "id": "862c19f2-da71-49d3-afe3-bad859db7284",
   "metadata": {},
   "outputs": [],
   "source": [
    "def compute_loss(model, loss_function, experience, gamma):\n",
    "    states = torch.Tensor([s for (s, a, r) in experience])\n",
    "    # states = torch.Tensor(np.vstack([s for (s, a, r) in experience]))\n",
    "    actions = torch.Tensor([a for (s, a, r) in experience])\n",
    "    rewards = np.array([r for (s, a, r) in experience])\n",
    "    rewards = [np.sum(rewards[i:]) for i in range(len(rewards))]\n",
    "    rewards = torch.Tensor(rewards)\n",
    "    # ----\n",
    "    rewards_disc = discount_rewards(rewards, gamma)\n",
    "    predictions = model(states)\n",
    "    probs = predictions.gather(dim=1, index=actions.long().view(-1, 1)).squeeze()\n",
    "    return loss_function(probs, rewards_disc)"
   ]
  },
  {
   "cell_type": "code",
   "execution_count": 9,
   "id": "b66a2d32-ff0c-410a-a770-68b4ba2f69f7",
   "metadata": {},
   "outputs": [],
   "source": [
    "def choose_action(model, state):\n",
    "    possible_actions = np.array([0, 1])\n",
    "    probs = model(torch.from_numpy(state).float())\n",
    "    return np.random.choice(possible_actions, p=probs.data.numpy())\n",
    "    # return np.random.choice(range(len(probs)), p=probs.data.numpy())"
   ]
  },
  {
   "cell_type": "code",
   "execution_count": 10,
   "id": "7dabaa81-d0de-4285-a791-b1cc043c19fa",
   "metadata": {},
   "outputs": [],
   "source": [
    "def take_action(game, action):\n",
    "    state, reward, terminated, truncated, _ = game.step(action)\n",
    "    done = terminated or truncated\n",
    "    return state, reward, done"
   ]
  },
  {
   "cell_type": "markdown",
   "id": "05a45446-7110-45b1-a03b-376e63810ad5",
   "metadata": {},
   "source": [
    "## Training Loop"
   ]
  },
  {
   "cell_type": "code",
   "execution_count": 11,
   "id": "3a7d1727-7d1f-4002-a8c3-40b63ef424c6",
   "metadata": {},
   "outputs": [],
   "source": [
    "def train_agent(model, optimizer, gamma=0.99, max_duration=250, episodes=500):\n",
    "    env = gym.make(\"CartPole-v1\")\n",
    "    possible_actions = np.array([0, 1])\n",
    "    scores = []\n",
    "    for episode_ndx in trange(episodes):\n",
    "        s, _ = env.reset()\n",
    "    \n",
    "        episode = []\n",
    "        for t in range(max_duration):\n",
    "            a = choose_action(model, s)\n",
    "            s_new, r, terminate = take_action(env, a)\n",
    "            episode.append((s, a, r))\n",
    "            s = s_new\n",
    "            if terminate:\n",
    "                break\n",
    "    \n",
    "        scores.append(len(episode))\n",
    "        loss = compute_loss(model, loss_fn, episode, gamma=gamma)\n",
    "        optimizer.zero_grad()\n",
    "        loss.backward()\n",
    "        optimizer.step()\n",
    "    return scores"
   ]
  },
  {
   "cell_type": "code",
   "execution_count": 12,
   "id": "1a28767e-e482-4672-9a2a-4233ddc5c218",
   "metadata": {},
   "outputs": [],
   "source": [
    "MAX_DURATION = 250\n",
    "EPISODES = 500\n",
    "GAMMA = 0.99"
   ]
  },
  {
   "cell_type": "code",
   "execution_count": 13,
   "id": "701a1e69-b542-49bf-b120-808c1f6596cc",
   "metadata": {},
   "outputs": [],
   "source": [
    "MODEL = create_policy_network()"
   ]
  },
  {
   "cell_type": "code",
   "execution_count": 14,
   "id": "cf1aa0ee-09a6-4739-b740-97aaa3aa07af",
   "metadata": {},
   "outputs": [],
   "source": [
    "OPTIMIZER = torch.optim.Adam(MODEL.parameters(), lr=0.1)"
   ]
  },
  {
   "cell_type": "code",
   "execution_count": 15,
   "id": "36fbaa03-8ad3-4a5b-b343-d5ca42a784d8",
   "metadata": {},
   "outputs": [
    {
     "data": {
      "application/vnd.jupyter.widget-view+json": {
       "model_id": "57a6c5dcaa13431db2d476226ba358a9",
       "version_major": 2,
       "version_minor": 0
      },
      "text/plain": [
       "  0%|          | 0/500 [00:00<?, ?it/s]"
      ]
     },
     "metadata": {},
     "output_type": "display_data"
    },
    {
     "name": "stderr",
     "output_type": "stream",
     "text": [
      "/var/folders/kh/3m0ztz3940n1ryz6tm09zyd80000gn/T/ipykernel_21473/3942251252.py:2: UserWarning: Creating a tensor from a list of numpy.ndarrays is extremely slow. Please consider converting the list to a single numpy.ndarray with numpy.array() before converting to a tensor. (Triggered internally at /Users/runner/work/pytorch/pytorch/pytorch/torch/csrc/utils/tensor_new.cpp:248.)\n",
      "  states = torch.Tensor([s for (s, a, r) in experience])\n"
     ]
    }
   ],
   "source": [
    "SCORES = train_agent(MODEL, OPTIMIZER, gamma=GAMMA, max_duration=MAX_DURATION, episodes=EPISODES)"
   ]
  },
  {
   "cell_type": "code",
   "execution_count": 16,
   "id": "3ac0a5a4-c411-43d4-8a89-796743f63769",
   "metadata": {},
   "outputs": [],
   "source": [
    "def visualize_scores(scores):\n",
    "    scores = np.array(scores)\n",
    "    filtered = filter_timeseries(scores, 0.95)\n",
    "    data = np.zeros((len(scores), 2))\n",
    "    data[:,0] = scores\n",
    "    data[:,1] = filtered\n",
    "    plt.plot(data)"
   ]
  },
  {
   "cell_type": "code",
   "execution_count": 17,
   "id": "18129c48-5366-4abf-a183-0705fb170d36",
   "metadata": {},
   "outputs": [
    {
     "data": {
      "image/png": "[encoded data removed]",
      "text/plain": [
       "<Figure size 640x480 with 1 Axes>"
      ]
     },
     "metadata": {},
     "output_type": "display_data"
    }
   ],
   "source": [
    "visualize_scores(SCORES)"
   ]
  },
  {
   "cell_type": "code",
   "execution_count": null,
   "id": "7914b3a0-2251-42e7-a111-8f290558c60d",
   "metadata": {},
   "outputs": [],
   "source": []
  }
 ],
 "metadata": {
  "kernelspec": {
   "display_name": "Python 3 (ipykernel)",
   "language": "python",
   "name": "python3"
  },
  "language_info": {
   "codemirror_mode": {
    "name": "ipython",
    "version": 3
   },
   "file_extension": ".py",
   "mimetype": "text/x-python",
   "name": "python",
   "nbconvert_exporter": "python",
   "pygments_lexer": "ipython3",
   "version": "3.10.13"
  }
 },
 "nbformat": 4,
 "nbformat_minor": 5
}
