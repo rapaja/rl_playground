{
 "cells": [
  {
   "cell_type": "markdown",
   "id": "e3ac708a-c4f8-4535-8b4c-ee17cbaa0a52",
   "metadata": {},
   "source": [
    "# Blackjack "
   ]
  },
  {
   "cell_type": "markdown",
   "id": "22368046-207f-4ede-b38e-86380a439928",
   "metadata": {},
   "source": [
    "We consider a slightly simplified version of **blackjack** in which a **player** plays against the **dealer**. Both agents (**player** and **dealer**) start with a single card. The **player** first take his turns, and then (once the player is finished) the **dealer** may play (unless the player was _busted_, in which case the dealer authomatically wins, and need not play).\n",
    "\n",
    "In each turn, an agent may choose two actions: **HIT** or **HOLD**. By choosing **HIT**, the agent is asking for one more card from the deck. By choosing **HOLD**, the agent finishes his turn without drawing an additional card.\n",
    "\n",
    "The agent **total** is the sum of **values** of all cards the agent has drawn, including the initial card handed to it on the start of the game. The \"small cards\" (2, 3, 4, ..., 9, 10) have the value equal to their number. The \"face cards\" (J, Q, K) have value 10. Ace (A) can have two values: 1 or 11, depending on the choice of the agent.\n",
    "\n",
    "THE GOAL OF THE GAME IS TO HAVE THE HIGHEST TOTAL NOT BIGGER THAN 21. If an agent achieves the total bigger than 21 it losses the game (we say that the agent is _busted_ in this case). More precisely:\n",
    "\n",
    "* If the player is busted, dealer wins.\n",
    "* If the players is not busted, then:\n",
    "  - If the dealer is busted, player wins.\n",
    "  - If the dealer is not busted, the agent with the highest total wins.\n",
    "  - In case that neither agent is busted, and both have the same total, the game is draw.\n",
    " \n",
    "Upon playing each game, the wining agent receives reward +1, the losing agent receives -1. If the game is draw, both agents receive 0. The reward is given only when the game is over. No reward is received after non-terminating actions (the reward following those actions is 0)."
   ]
  },
  {
   "cell_type": "markdown",
   "id": "116c2314-010d-4f6e-ba63-43f29d503191",
   "metadata": {},
   "source": [
    "<div class=\"alert alert-block alert-info\">\n",
    "<b>The Assignment:</b> \n",
    "Train a bot able to play blackjack agains the dealer.\n",
    "</div>"
   ]
  },
  {
   "cell_type": "markdown",
   "id": "ffc0e0b8-a577-4d47-8712-a9a2a75c1a78",
   "metadata": {},
   "source": [
    "<div class=\"alert alert-block alert-warning\">\n",
    "<b>Dealer strategy:</b> \n",
    "    Assume that the dealer is playing according to a fixed strategy: Choose HIT as long as the dealer total is not above 17, otherwise choose HOLD.\n",
    "</div>"
   ]
  },
  {
   "cell_type": "markdown",
   "id": "4ccc8714-e0bb-4bb5-9151-2194a3eb520e",
   "metadata": {},
   "source": [
    "## Basic Imports"
   ]
  },
  {
   "cell_type": "code",
   "execution_count": 1,
   "id": "33fa7810-881e-4c53-994c-a5c954a71861",
   "metadata": {},
   "outputs": [],
   "source": [
    "from enum import Enum\n",
    "from dataclasses import dataclass, astuple\n",
    "from typing import Callable\n",
    "from random import random, randint\n",
    "from copy import deepcopy\n",
    "\n",
    "from tqdm import trange\n",
    "from rich import print\n",
    "\n",
    "import numpy as np\n",
    "import matplotlib.pyplot as plt"
   ]
  },
  {
   "cell_type": "markdown",
   "id": "26b4cd3f-7662-4aff-80fc-45062ed16274",
   "metadata": {},
   "source": [
    "## Cards and Decks of Cards"
   ]
  },
  {
   "cell_type": "markdown",
   "id": "211076b6-844d-4e3a-a587-7d10f25a3a11",
   "metadata": {},
   "source": [
    "Let us first implement cards and decks of cards."
   ]
  },
  {
   "cell_type": "code",
   "execution_count": 2,
   "id": "6e4c95bc-79b8-4598-a626-d3a2fe20d3b1",
   "metadata": {},
   "outputs": [],
   "source": [
    "class CardSuit(Enum):\n",
    "    \"\"\"An enumeration representing card suits.\"\"\"\n",
    "    \n",
    "    DIAMONDS = 0\n",
    "    CLUBS = 1\n",
    "    HEARTS = 2\n",
    "    SPADES = 3\n",
    "\n",
    "    def __repr__(self):\n",
    "        match self:\n",
    "            case CardSuit.DIAMONDS:\n",
    "                return \"♦\"\n",
    "            case CardSuit.CLUBS:\n",
    "                return \"♣\"\n",
    "            case CardSuit.HEARTS:\n",
    "                return \"♥\"\n",
    "            case CardSuit.SPADES:\n",
    "                return \"♠\""
   ]
  },
  {
   "cell_type": "code",
   "execution_count": 3,
   "id": "7435ec76-6263-4e6f-a70c-bbc9e42e4ef1",
   "metadata": {},
   "outputs": [],
   "source": [
    "class CardValue(Enum):\n",
    "    \"\"\"An enumeration representing card values.\"\"\"\n",
    "\n",
    "    ACE = 1\n",
    "    TWO = 2\n",
    "    THREE = 3\n",
    "    FOUR = 4\n",
    "    FIVE = 5\n",
    "    SIX = 6\n",
    "    SEVEN = 7\n",
    "    EIGHT = 8\n",
    "    NINE = 9\n",
    "    TEN = 10\n",
    "    JACK = 12\n",
    "    DAME = 13\n",
    "    KING = 14\n",
    "\n",
    "    def __repr__(self):\n",
    "        if self == CardValue.ACE:\n",
    "            return \"A\"\n",
    "        elif self.value >= 2 and self.value <= 10:\n",
    "            return str(self.value)\n",
    "        elif self == CardValue.JACK:\n",
    "            return \"J\"\n",
    "        elif self == CardValue.DAME:\n",
    "            return \"D\"\n",
    "        elif self == CardValue.KING:\n",
    "            return \"K\""
   ]
  },
  {
   "cell_type": "markdown",
   "id": "292cbd37-5851-4c19-baf7-6ead045e3517",
   "metadata": {},
   "source": [
    "A card is completely defined by a combination of face and suit. We could implement cards as tuples. However, we will implement a separate class for this, solely in order to have a nice, natural representation of cards as string.\n",
    "\n",
    "To get the best of both worlds, we will create a card class a _dataclass_!"
   ]
  },
  {
   "cell_type": "code",
   "execution_count": 4,
   "id": "b5ccaab7-6828-4111-9cc0-196f3bb8cb3e",
   "metadata": {},
   "outputs": [],
   "source": [
    "@dataclass\n",
    "class Card:\n",
    "    \"\"\"A playing card.\"\"\"\n",
    "    value: CardValue\n",
    "    suit: CardSuit\n",
    "\n",
    "    def __repr__(self):\n",
    "        return f\"{repr(self.value)}{repr(self.suit)}\""
   ]
  },
  {
   "cell_type": "markdown",
   "id": "f94f9c11-972a-4d48-bd66-fb8a43f8f991",
   "metadata": {},
   "source": [
    "Just to illustrate, let us create a card and see how nicely it is written to the console."
   ]
  },
  {
   "cell_type": "code",
   "execution_count": 5,
   "id": "8717cc22-406c-4d60-a488-08cd2d5c8332",
   "metadata": {},
   "outputs": [
    {
     "data": {
      "text/plain": [
       "A♥"
      ]
     },
     "execution_count": 5,
     "metadata": {},
     "output_type": "execute_result"
    }
   ],
   "source": [
    "Card(value=CardValue.ACE, suit=CardSuit.HEARTS)"
   ]
  },
  {
   "cell_type": "markdown",
   "id": "3e9557e4-31ac-4068-971b-12e25b416a4c",
   "metadata": {},
   "source": [
    "Once we have implemented individual cards, we may proceede to implement a deck."
   ]
  },
  {
   "cell_type": "code",
   "execution_count": 6,
   "id": "9f325133-0b5b-44c9-a140-1f8eff3e04bc",
   "metadata": {},
   "outputs": [],
   "source": [
    "class CardDeck:\n",
    "    \"\"\"A deck of cards.\n",
    "\n",
    "    The deck contains 52 playing cards, which are shuffled and drawn consecutively.\n",
    "    Once all cards have been drawn, the deck reshuffles automatically.\n",
    "    \"\"\"\n",
    "\n",
    "    def reshuffle(self):\n",
    "        self.cards = [Card(value=v, suit=s) for v in iter(CardValue) for s in iter(CardSuit)]\n",
    "        np.random.shuffle(self.cards) \n",
    "\n",
    "    def __init__(self):\n",
    "        self.reshuffle()\n",
    "\n",
    "    def draw(self):\n",
    "        if not self.cards:\n",
    "            self.reshuffle()\n",
    "        return self.cards.pop(0)"
   ]
  },
  {
   "cell_type": "code",
   "execution_count": 7,
   "id": "5a59b26d-471d-4025-a8a8-d4b90a44e09a",
   "metadata": {},
   "outputs": [
    {
     "data": {
      "text/html": [
       "<pre style=\"white-space:pre;overflow-x:auto;line-height:normal;font-family:Menlo,'DejaVu Sans Mono',consolas,'Courier New',monospace\">J♣, <span style=\"color: #008080; text-decoration-color: #008080; font-weight: bold\">7</span>♣, D♦, K♦, <span style=\"color: #008080; text-decoration-color: #008080; font-weight: bold\">7</span>♦, <span style=\"color: #008080; text-decoration-color: #008080; font-weight: bold\">9</span>♠, <span style=\"color: #008080; text-decoration-color: #008080; font-weight: bold\">10</span>♦, <span style=\"color: #008080; text-decoration-color: #008080; font-weight: bold\">3</span>♣, <span style=\"color: #008080; text-decoration-color: #008080; font-weight: bold\">2</span>♥, <span style=\"color: #008080; text-decoration-color: #008080; font-weight: bold\">6</span>♣, <span style=\"color: #008080; text-decoration-color: #008080; font-weight: bold\">3</span>♦, <span style=\"color: #008080; text-decoration-color: #008080; font-weight: bold\">7</span>♠, <span style=\"color: #008080; text-decoration-color: #008080; font-weight: bold\">8</span>♦, <span style=\"color: #008080; text-decoration-color: #008080; font-weight: bold\">2</span>♣, <span style=\"color: #008080; text-decoration-color: #008080; font-weight: bold\">6</span>♦, <span style=\"color: #008080; text-decoration-color: #008080; font-weight: bold\">9</span>♥, <span style=\"color: #008080; text-decoration-color: #008080; font-weight: bold\">9</span>♦, K♥, <span style=\"color: #008080; text-decoration-color: #008080; font-weight: bold\">5</span>♣, J♥, <span style=\"color: #008080; text-decoration-color: #008080; font-weight: bold\">5</span>♠, D♠, A♣, A♦, <span style=\"color: #008080; text-decoration-color: #008080; font-weight: bold\">4</span>♠, <span style=\"color: #008080; text-decoration-color: #008080; font-weight: bold\">5</span>♦, A♠, <span style=\"color: #008080; text-decoration-color: #008080; font-weight: bold\">10</span>♥, \n",
       "J♦, <span style=\"color: #008080; text-decoration-color: #008080; font-weight: bold\">4</span>♣, A♥, <span style=\"color: #008080; text-decoration-color: #008080; font-weight: bold\">6</span>♠, D♥, <span style=\"color: #008080; text-decoration-color: #008080; font-weight: bold\">7</span>♥, <span style=\"color: #008080; text-decoration-color: #008080; font-weight: bold\">4</span>♦, <span style=\"color: #008080; text-decoration-color: #008080; font-weight: bold\">10</span>♠, <span style=\"color: #008080; text-decoration-color: #008080; font-weight: bold\">8</span>♥, <span style=\"color: #008080; text-decoration-color: #008080; font-weight: bold\">5</span>♥, <span style=\"color: #008080; text-decoration-color: #008080; font-weight: bold\">8</span>♠, <span style=\"color: #008080; text-decoration-color: #008080; font-weight: bold\">4</span>♥, K♠, <span style=\"color: #008080; text-decoration-color: #008080; font-weight: bold\">6</span>♥, <span style=\"color: #008080; text-decoration-color: #008080; font-weight: bold\">3</span>♠, <span style=\"color: #008080; text-decoration-color: #008080; font-weight: bold\">8</span>♣, <span style=\"color: #008080; text-decoration-color: #008080; font-weight: bold\">10</span>♣, <span style=\"color: #008080; text-decoration-color: #008080; font-weight: bold\">3</span>♥, D♣, <span style=\"color: #008080; text-decoration-color: #008080; font-weight: bold\">2</span>♠, K♣, <span style=\"color: #008080; text-decoration-color: #008080; font-weight: bold\">9</span>♣, <span style=\"color: #008080; text-decoration-color: #008080; font-weight: bold\">2</span>♦, J♠\n",
       "</pre>\n"
      ],
      "text/plain": [
       "J♣, \u001b[1;36m7\u001b[0m♣, D♦, K♦, \u001b[1;36m7\u001b[0m♦, \u001b[1;36m9\u001b[0m♠, \u001b[1;36m10\u001b[0m♦, \u001b[1;36m3\u001b[0m♣, \u001b[1;36m2\u001b[0m♥, \u001b[1;36m6\u001b[0m♣, \u001b[1;36m3\u001b[0m♦, \u001b[1;36m7\u001b[0m♠, \u001b[1;36m8\u001b[0m♦, \u001b[1;36m2\u001b[0m♣, \u001b[1;36m6\u001b[0m♦, \u001b[1;36m9\u001b[0m♥, \u001b[1;36m9\u001b[0m♦, K♥, \u001b[1;36m5\u001b[0m♣, J♥, \u001b[1;36m5\u001b[0m♠, D♠, A♣, A♦, \u001b[1;36m4\u001b[0m♠, \u001b[1;36m5\u001b[0m♦, A♠, \u001b[1;36m10\u001b[0m♥, \n",
       "J♦, \u001b[1;36m4\u001b[0m♣, A♥, \u001b[1;36m6\u001b[0m♠, D♥, \u001b[1;36m7\u001b[0m♥, \u001b[1;36m4\u001b[0m♦, \u001b[1;36m10\u001b[0m♠, \u001b[1;36m8\u001b[0m♥, \u001b[1;36m5\u001b[0m♥, \u001b[1;36m8\u001b[0m♠, \u001b[1;36m4\u001b[0m♥, K♠, \u001b[1;36m6\u001b[0m♥, \u001b[1;36m3\u001b[0m♠, \u001b[1;36m8\u001b[0m♣, \u001b[1;36m10\u001b[0m♣, \u001b[1;36m3\u001b[0m♥, D♣, \u001b[1;36m2\u001b[0m♠, K♣, \u001b[1;36m9\u001b[0m♣, \u001b[1;36m2\u001b[0m♦, J♠\n"
      ]
     },
     "metadata": {},
     "output_type": "display_data"
    }
   ],
   "source": [
    "# These few lines simply visualize random card ordering in a deck.\n",
    "deck = CardDeck()\n",
    "print(\", \".join([repr(c) for c in deck.cards]))"
   ]
  },
  {
   "cell_type": "markdown",
   "id": "0bf09adc-afad-45fa-aaba-a89558c2e2a8",
   "metadata": {},
   "source": [
    "## Blackjack State and Rules for Updating the State"
   ]
  },
  {
   "cell_type": "markdown",
   "id": "93232f44-a958-4c3f-a126-015a4549843b",
   "metadata": {},
   "source": [
    "We now proceede to implement the state of a blackjack game, as well as different policies."
   ]
  },
  {
   "cell_type": "markdown",
   "id": "5df0d9b8-daa5-4ac5-a4ba-1fb3ce5ee46d",
   "metadata": {},
   "source": [
    "From the position of a player, the **state** of a blackjack game is defined by the list of all cards it has previously drawn (including the card that was initially given to it) and also the card in the posession of the dealer. However, the state defined in such a way actually contains more information than is actually needed to form a decission. It is sufficient to know:\n",
    "* the current player total;\n",
    "* if this total is created using an ACE which can be converted to 1, if needed; and\n",
    "* the value of the dealer's card"
   ]
  },
  {
   "cell_type": "markdown",
   "id": "d89e9359-4e2f-4198-b7f9-64fccafca713",
   "metadata": {},
   "source": [
    "As before, we utilize the concept of `dataclass` in order to implement the `State`."
   ]
  },
  {
   "cell_type": "code",
   "execution_count": 8,
   "id": "c53b83ca-b581-4ad3-b211-b36ed674ed9f",
   "metadata": {},
   "outputs": [],
   "source": [
    "@dataclass\n",
    "class State:\n",
    "    total: int\n",
    "    has_ace: bool\n",
    "    dealer_total: int\n",
    "\n",
    "    def __hash__(self):\n",
    "        return hash(astuple(self))"
   ]
  },
  {
   "cell_type": "markdown",
   "id": "047bff95-c92d-4f45-8590-03c95f7ec396",
   "metadata": {},
   "source": [
    "We will now define a function which updates the total once the new card is drawn. In a way, this function implements core of the blackjack playing rules."
   ]
  },
  {
   "cell_type": "code",
   "execution_count": 9,
   "id": "5658b6ab-d47f-407c-9f53-3578780aade5",
   "metadata": {},
   "outputs": [],
   "source": [
    "def update_total(total: int, has_ace: bool, card_value: CardValue) -> tuple[int, bool]:\n",
    "    \"\"\"Update (a portion of) the player state by taking account a newly drawn card.\n",
    "    \n",
    "    Given the information regarding the current player state (total and ACE info), and the\n",
    "    value of a newly drawn card, updates the current player state (both total and ACE info).\n",
    "\n",
    "    The updated total returned by this function can be bigger than 21.\n",
    "    The function correctly tracks statuses of ACEs (i.e. it changes values of ACEs from\n",
    "    11 to 1, when appropriate, in order for the total not to excede 21), however, if\n",
    "    after this the total still remains bigger than 21 the function will simply return it\n",
    "    as is.\n",
    "\n",
    "    Args:\n",
    "        total (int): player total\n",
    "        has_ace (bool): indicates if the player has usable ACE\n",
    "        card_value (CardValue): value of the newly drawn card\n",
    "\n",
    "    Returns:\n",
    "        int: updated player total\n",
    "        bool: updated info indicating if the player has a usable ACE\n",
    "    \"\"\"\n",
    "    if card_value == CardValue.ACE:\n",
    "        if total + 11 <= 21:\n",
    "            # We have an ACE and the total is less than 21.\n",
    "            # We can keep the ACE as 11.\n",
    "            # Notice that it was impossible that we had another ACE in posession\n",
    "            # before (since in that case the total would surely be bigger than 21)\n",
    "            return (total+11, True)\n",
    "        else:\n",
    "            # The total excedes 21, and we must count the ACE as 1.\n",
    "            # It is possible we had another active ACE before, if so the\n",
    "            # status of this old ACE does not change.\n",
    "            return (total+1, has_ace)\n",
    "    else:\n",
    "        total += min(card_value.value, 10)\n",
    "        if total > 21:\n",
    "            # The player is potentially busted.\n",
    "            if has_ace:\n",
    "                # If we have an active ACE, we are saved.\n",
    "                # The ACE value is reduced from 11 to 1 (and the total is reduced by 10).\n",
    "                # However, the cost is that we no longer have an active ACE.\n",
    "                total -= 10\n",
    "                return (total, False)\n",
    "            else:\n",
    "                # We have not active ACE, so we cannote decrease the total\n",
    "                return (total, has_ace)\n",
    "        # The total is less than 21, we may return the state as is.\n",
    "        return (total, has_ace)"
   ]
  },
  {
   "cell_type": "markdown",
   "id": "874eeb88-b761-4843-a55c-8a77a6f12e01",
   "metadata": {},
   "source": [
    "Another usefull function will be the one that generates a random state. A valid Blackjack state is any in which the player total is between 2 and 21 (1 is never the total, since it could only happen by having a single ACE, which would be counted by 11). ACE indication can be `True` only if the total is bigger or equal to 11. Further, since the dealer has only one card during a player's turn, possible card values are between 2 and 11. "
   ]
  },
  {
   "cell_type": "code",
   "execution_count": 10,
   "id": "778e75cb-f7b7-41d7-8085-bb92db864049",
   "metadata": {},
   "outputs": [],
   "source": [
    "def random_state() -> State:\n",
    "    \"\"\"Generate a random state.\"\"\"\n",
    "    total = randint(2, 21)\n",
    "    if total>= 11:\n",
    "        r = random()\n",
    "        if r >= 0.5:\n",
    "            has_ace = True\n",
    "        else:\n",
    "            has_ace = False\n",
    "    else:\n",
    "        has_ace = False\n",
    "    dealer_value = randint(2, 11)\n",
    "    return State(total, has_ace, dealer_value)"
   ]
  },
  {
   "cell_type": "code",
   "execution_count": 11,
   "id": "b400368e-555f-4304-a2e8-48b22529de27",
   "metadata": {},
   "outputs": [],
   "source": [
    "def all_states() -> list[State]:\n",
    "    \"\"\"Create a list of all possible Blackjack states.\"\"\"\n",
    "    states = []\n",
    "    for total in range(2, 22):\n",
    "        for dealer_value in range(2, 12):\n",
    "            states.append(State(total, False, dealer_value))\n",
    "            if total >= 11:\n",
    "                states.append(State(total, True, dealer_value))\n",
    "    return states"
   ]
  },
  {
   "cell_type": "code",
   "execution_count": 12,
   "id": "18474438-8b9a-45b9-9612-b396226f516d",
   "metadata": {},
   "outputs": [
    {
     "data": {
      "text/plain": [
       "310"
      ]
     },
     "execution_count": 12,
     "metadata": {},
     "output_type": "execute_result"
    }
   ],
   "source": [
    "states = all_states()\n",
    "len(states)"
   ]
  },
  {
   "cell_type": "markdown",
   "id": "3a069be9-80ae-499b-b0fa-09b5239440cd",
   "metadata": {},
   "source": [
    "## Blackjack Actions and Policies"
   ]
  },
  {
   "cell_type": "markdown",
   "id": "52b011a8-60e4-4541-b204-babab5c9691e",
   "metadata": {},
   "source": [
    "We are now ready to define some interesting Blackjack policies. Before doing that, we will need to define Blackjack actions."
   ]
  },
  {
   "cell_type": "code",
   "execution_count": 13,
   "id": "c9d38f37-c03c-4585-bdea-d7904e1fdf24",
   "metadata": {},
   "outputs": [],
   "source": [
    "class Action(Enum):\n",
    "    \"\"\"Blackjack action.\"\"\"\n",
    "    HIT = 0\n",
    "    HOLD = 1\n",
    "\n",
    "    def __str__(self):\n",
    "        return \"HIT\" if self == Action.HIT else \"HOLD\""
   ]
  },
  {
   "cell_type": "code",
   "execution_count": 14,
   "id": "8236a4bb-adee-4d99-80e4-8f612a830cec",
   "metadata": {},
   "outputs": [],
   "source": [
    "def random_action() -> Action:\n",
    "    \"\"\"Return random action.\"\"\"\n",
    "    r = random()\n",
    "    if r <= 0.5:\n",
    "        return Action.HIT\n",
    "    else:\n",
    "        return Action.HOLD"
   ]
  },
  {
   "cell_type": "markdown",
   "id": "04654662-191c-4dc7-81d5-4531387ad806",
   "metadata": {},
   "source": [
    "A policy can be seen as a function which, given a state, returns the action to take. Let us first define a type to describe all actions (so that we can use it in signatures of functions and methods)."
   ]
  },
  {
   "cell_type": "code",
   "execution_count": 15,
   "id": "ed4cc6f3-5584-4365-bf55-0fb14b035941",
   "metadata": {},
   "outputs": [],
   "source": [
    "Policy = Callable[[State], Action]"
   ]
  },
  {
   "cell_type": "markdown",
   "id": "5d5c650a-8479-430c-a95f-fead78cec6a7",
   "metadata": {},
   "source": [
    "Let us first define a **random policy**: A player using this policy will choose an action at random regardless of the state."
   ]
  },
  {
   "cell_type": "code",
   "execution_count": 16,
   "id": "7e9e13cc-5775-4bd7-b333-1e4a94e4ba7d",
   "metadata": {},
   "outputs": [],
   "source": [
    "def random_policy(s: State) -> Action:\n",
    "    return random_action()"
   ]
  },
  {
   "cell_type": "markdown",
   "id": "d85ed383-f072-4442-a970-865460fec47a",
   "metadata": {},
   "source": [
    "Another interesting policy is the **delaer policy**: Choose HIT whenever the total is less than 17, otherwise play HOLD."
   ]
  },
  {
   "cell_type": "code",
   "execution_count": 17,
   "id": "688dcf98-b3b1-455b-acc5-744e5c258f8c",
   "metadata": {},
   "outputs": [],
   "source": [
    "def dealer_policy(s: State) -> Action:\n",
    "    total, has_ace, _ = astuple(s)\n",
    "    if total < 17:\n",
    "        return Action.HIT\n",
    "    else:\n",
    "        return Action.HOLD"
   ]
  },
  {
   "cell_type": "markdown",
   "id": "f271cb76-cc5e-4a5e-a457-f1ba1b43988a",
   "metadata": {},
   "source": [
    "## Using a Policy: Playing an Entire Turn (of a Player or a Dealer)"
   ]
  },
  {
   "cell_type": "markdown",
   "id": "c9585f5b-0582-4c30-aa17-cd0abf4aec20",
   "metadata": {},
   "source": [
    "We now proceed to implement a single **turn**. This will be used to identify a sequence of HIT actions of a single agent, starting from some given initial state until a HOLD action is selected, or the total excedes 21. One Blackjack game (the way we are playing it here) consists of two turns: the player's turn and the dealer's turn. So, once we implement the turn, we will be able to implement a single game. A path to implementing a learning agent will then be completely set."
   ]
  },
  {
   "cell_type": "markdown",
   "id": "35fc3cd4-5cf4-4fd1-b76a-47d27c7d52d3",
   "metadata": {},
   "source": [
    "In general, we will be \"playing\" games in several different scenarios. In cases we are learning, we will be interested in \"playing\" many (thousands and tens of thousands) of games silently. In other cases, particularly during testing and demonstration, we will be interested in carefully tracing each event within a single game. "
   ]
  },
  {
   "cell_type": "markdown",
   "id": "c690b8e3-37f0-4968-a140-84ad19790dee",
   "metadata": {},
   "source": [
    "To make reporting functionality flexibile, we will add a single optional argument to out \"turn-playing\" and \"game-playing\" functions -- report callback. It will be a function which takes a textual message and reports and (optionally) reports it to a user."
   ]
  },
  {
   "cell_type": "code",
   "execution_count": 18,
   "id": "2af807c7-5213-4750-900d-e6d107a333bd",
   "metadata": {},
   "outputs": [],
   "source": [
    "ReportCallback = Callable[[str], None]"
   ]
  },
  {
   "cell_type": "markdown",
   "id": "71a85780-a562-4bb1-822d-cec38c7c9e23",
   "metadata": {},
   "source": [
    "Another interesting point to note is that we will wish to \"play\" games starting from different initial states. During learning, it will be of interest to choose the initial state completely randomly. During demonstration, it will be more interesting to have the game start in the usual way: by drawing a card from the deck for the player and another card from the deck for the dealer."
   ]
  },
  {
   "cell_type": "code",
   "execution_count": 19,
   "id": "3facb134-8bc0-4500-b96c-87be67956ca1",
   "metadata": {},
   "outputs": [],
   "source": [
    "def get_init_state(state: State | str | None, deck: CardDeck) -> State:\n",
    "    if state is None:\n",
    "        player_card = deck.draw()\n",
    "        total, has_ace = update_total(0, False, player_card.value)\n",
    "        dealer_card = deck.draw()\n",
    "        dealer_value = min(dealer_card.value.value, 10)\n",
    "        return State(total, has_ace, dealer_value)\n",
    "    else:\n",
    "        if isinstance(state, str):\n",
    "            assert state == \"random\", f\"Invalid init state specification: '{state}'\"\n",
    "            return random_state()\n",
    "        else:\n",
    "            return state"
   ]
  },
  {
   "cell_type": "markdown",
   "id": "17062bec-a25c-4772-9148-3911b31fa4b0",
   "metadata": {},
   "source": [
    "Similarly, we may wish to simulate a turn with a fixed given initial action, or with the initial action determined by the decision policy."
   ]
  },
  {
   "cell_type": "code",
   "execution_count": 20,
   "id": "3716efdd-7ccf-4f52-aafd-ad8101b619f7",
   "metadata": {},
   "outputs": [],
   "source": [
    "def get_init_action(action: Action | str | None, state: State, policy: Policy) -> Action:\n",
    "    if action is not None:\n",
    "        if isinstance(action, str):\n",
    "            assert action == \"random\", f\"Ivalid init action specification: '{action}'\"\n",
    "            return random_action()\n",
    "        else:\n",
    "            return action\n",
    "    else:\n",
    "        return policy(state)"
   ]
  },
  {
   "cell_type": "markdown",
   "id": "7b5adf11-f923-4fa0-8df6-dfcd659731de",
   "metadata": {},
   "source": [
    "Finally, we are ready to implement a single turn of play... While playing we will track the sequence of states and actions We will need those information later, while implementing learning agents."
   ]
  },
  {
   "cell_type": "code",
   "execution_count": 21,
   "id": "8cf00d86-b925-4613-8819-2f023f37f83b",
   "metadata": {},
   "outputs": [],
   "source": [
    "TurnLog = list[tuple[State, Action]]"
   ]
  },
  {
   "cell_type": "code",
   "execution_count": 22,
   "id": "f6f9d8cc-811c-4074-82ac-6da3d0e6dc4f",
   "metadata": {},
   "outputs": [],
   "source": [
    "def play_turn(policy: Policy, \n",
    "              deck: CardDeck, \n",
    "              init_state: State | None = None,\n",
    "              init_action: Action | None = None, \n",
    "              report_callback: ReportCallback | None = None) -> tuple[int | None, TurnLog]:\n",
    "    \"\"\"A single playing turn of an agent.\n",
    "\n",
    "    Args:\n",
    "        policy (Policy): decision policy used by the agent\n",
    "        deck (CardDeck): deck of cards from which to draw\n",
    "        init_state (State | None): initial state or `None` if the initial state\n",
    "                                   is to be selected by drawing from the deck.\n",
    "        init_action (Action | None): initial action or `None` if the initial action\n",
    "                                     is to be selected according to the decision policy\n",
    "        report_callback (ReportCallback | None): callback used to report progress\n",
    "                                                 if `None`, the turn will be played silently\n",
    "\n",
    "    Return:\n",
    "        int | None: The final agent's total or `None` if the agent is busted\n",
    "        TurnLog: sequence of states and actions observed during gameplay\n",
    "    \"\"\"\n",
    "    report = lambda txt: report_callback and report_callback(txt)\n",
    "    state = get_init_state(init_state, deck)\n",
    "    action = get_init_action(init_action, state, policy)\n",
    "    total, has_ace, dealer_value = astuple(state)\n",
    "    report(f\"[bold]initial state[/] {state}\")\n",
    "    report(f\"initial total {total} with ACE {has_ace} => [bold]initial action[/] {action}\")\n",
    "    turn_log = [(state, action)]\n",
    "    while action == Action.HIT:\n",
    "        card = deck.draw()\n",
    "        total, has_ace = update_total(total, has_ace, card.value)\n",
    "        state = State(total, has_ace, dealer_value)\n",
    "        if total > 21:\n",
    "            # Since total is above 21, the state is not valid and should not\n",
    "            # be logged!\n",
    "            report(f\"turned finished - [bold]BUSTED![/] card drawn {card} => total {total} with ACE {has_ace}\")\n",
    "            return None, turn_log\n",
    "        else:\n",
    "            action = policy(state)\n",
    "            turn_log.append((state, action))\n",
    "            report(f\"card drawn {card} => total {total} with ACE {has_ace} => action chosen {action}\")\n",
    "    report(f\"turn finished with final total {total}\")\n",
    "    return total, turn_log"
   ]
  },
  {
   "cell_type": "markdown",
   "id": "066237a2-f33f-4bc8-b4e4-2cf8685aedb3",
   "metadata": {},
   "source": [
    "We can now test the functionality implemented thus far..."
   ]
  },
  {
   "cell_type": "code",
   "execution_count": 23,
   "id": "acc396d1-b402-4712-9bb4-64ba26119277",
   "metadata": {},
   "outputs": [],
   "source": [
    "report_callback = lambda txt: print(f\"[bold blue]AGENT:[/] {txt}\")"
   ]
  },
  {
   "cell_type": "code",
   "execution_count": 24,
   "id": "a36bcbcb-3b63-4b24-bb49-802c4ad2a6e2",
   "metadata": {},
   "outputs": [
    {
     "data": {
      "text/html": [
       "<pre style=\"white-space:pre;overflow-x:auto;line-height:normal;font-family:Menlo,'DejaVu Sans Mono',consolas,'Courier New',monospace\"><span style=\"color: #000080; text-decoration-color: #000080; font-weight: bold\">AGENT:</span> <span style=\"font-weight: bold\">initial state</span> <span style=\"color: #800080; text-decoration-color: #800080; font-weight: bold\">State</span><span style=\"font-weight: bold\">(</span><span style=\"color: #808000; text-decoration-color: #808000\">total</span>=<span style=\"color: #008080; text-decoration-color: #008080; font-weight: bold\">10</span>, <span style=\"color: #808000; text-decoration-color: #808000\">has_ace</span>=<span style=\"color: #ff0000; text-decoration-color: #ff0000; font-style: italic\">False</span>, <span style=\"color: #808000; text-decoration-color: #808000\">dealer_total</span>=<span style=\"color: #008080; text-decoration-color: #008080; font-weight: bold\">7</span><span style=\"font-weight: bold\">)</span>\n",
       "</pre>\n"
      ],
      "text/plain": [
       "\u001b[1;34mAGENT:\u001b[0m \u001b[1minitial state\u001b[0m \u001b[1;35mState\u001b[0m\u001b[1m(\u001b[0m\u001b[33mtotal\u001b[0m=\u001b[1;36m10\u001b[0m, \u001b[33mhas_ace\u001b[0m=\u001b[3;91mFalse\u001b[0m, \u001b[33mdealer_total\u001b[0m=\u001b[1;36m7\u001b[0m\u001b[1m)\u001b[0m\n"
      ]
     },
     "metadata": {},
     "output_type": "display_data"
    },
    {
     "data": {
      "text/html": [
       "<pre style=\"white-space:pre;overflow-x:auto;line-height:normal;font-family:Menlo,'DejaVu Sans Mono',consolas,'Courier New',monospace\"><span style=\"color: #000080; text-decoration-color: #000080; font-weight: bold\">AGENT:</span> initial total <span style=\"color: #008080; text-decoration-color: #008080; font-weight: bold\">10</span> with ACE <span style=\"color: #ff0000; text-decoration-color: #ff0000; font-style: italic\">False</span> =&gt; <span style=\"font-weight: bold\">initial action</span> HOLD\n",
       "</pre>\n"
      ],
      "text/plain": [
       "\u001b[1;34mAGENT:\u001b[0m initial total \u001b[1;36m10\u001b[0m with ACE \u001b[3;91mFalse\u001b[0m => \u001b[1minitial action\u001b[0m HOLD\n"
      ]
     },
     "metadata": {},
     "output_type": "display_data"
    },
    {
     "data": {
      "text/html": [
       "<pre style=\"white-space:pre;overflow-x:auto;line-height:normal;font-family:Menlo,'DejaVu Sans Mono',consolas,'Courier New',monospace\"><span style=\"color: #000080; text-decoration-color: #000080; font-weight: bold\">AGENT:</span> turn finished with final total <span style=\"color: #008080; text-decoration-color: #008080; font-weight: bold\">10</span>\n",
       "</pre>\n"
      ],
      "text/plain": [
       "\u001b[1;34mAGENT:\u001b[0m turn finished with final total \u001b[1;36m10\u001b[0m\n"
      ]
     },
     "metadata": {},
     "output_type": "display_data"
    },
    {
     "data": {
      "text/plain": [
       "(10, [(State(total=10, has_ace=False, dealer_total=7), <Action.HOLD: 1>)])"
      ]
     },
     "execution_count": 24,
     "metadata": {},
     "output_type": "execute_result"
    }
   ],
   "source": [
    "# When not specifying the initial state, one will be selected at random!\n",
    "# When also not specifying the initial action, one will be choses according \n",
    "# to the given policy for the initial state\n",
    "play_turn(random_policy, deck, report_callback=report_callback)"
   ]
  },
  {
   "cell_type": "code",
   "execution_count": 25,
   "id": "5bd8fb30-9637-40c1-8468-2306139cf2f0",
   "metadata": {},
   "outputs": [
    {
     "data": {
      "text/html": [
       "<pre style=\"white-space:pre;overflow-x:auto;line-height:normal;font-family:Menlo,'DejaVu Sans Mono',consolas,'Courier New',monospace\"><span style=\"color: #000080; text-decoration-color: #000080; font-weight: bold\">AGENT:</span> <span style=\"font-weight: bold\">initial state</span> <span style=\"color: #800080; text-decoration-color: #800080; font-weight: bold\">State</span><span style=\"font-weight: bold\">(</span><span style=\"color: #808000; text-decoration-color: #808000\">total</span>=<span style=\"color: #008080; text-decoration-color: #008080; font-weight: bold\">10</span>, <span style=\"color: #808000; text-decoration-color: #808000\">has_ace</span>=<span style=\"color: #ff0000; text-decoration-color: #ff0000; font-style: italic\">False</span>, <span style=\"color: #808000; text-decoration-color: #808000\">dealer_total</span>=<span style=\"color: #008080; text-decoration-color: #008080; font-weight: bold\">10</span><span style=\"font-weight: bold\">)</span>\n",
       "</pre>\n"
      ],
      "text/plain": [
       "\u001b[1;34mAGENT:\u001b[0m \u001b[1minitial state\u001b[0m \u001b[1;35mState\u001b[0m\u001b[1m(\u001b[0m\u001b[33mtotal\u001b[0m=\u001b[1;36m10\u001b[0m, \u001b[33mhas_ace\u001b[0m=\u001b[3;91mFalse\u001b[0m, \u001b[33mdealer_total\u001b[0m=\u001b[1;36m10\u001b[0m\u001b[1m)\u001b[0m\n"
      ]
     },
     "metadata": {},
     "output_type": "display_data"
    },
    {
     "data": {
      "text/html": [
       "<pre style=\"white-space:pre;overflow-x:auto;line-height:normal;font-family:Menlo,'DejaVu Sans Mono',consolas,'Courier New',monospace\"><span style=\"color: #000080; text-decoration-color: #000080; font-weight: bold\">AGENT:</span> initial total <span style=\"color: #008080; text-decoration-color: #008080; font-weight: bold\">10</span> with ACE <span style=\"color: #ff0000; text-decoration-color: #ff0000; font-style: italic\">False</span> =&gt; <span style=\"font-weight: bold\">initial action</span> HIT\n",
       "</pre>\n"
      ],
      "text/plain": [
       "\u001b[1;34mAGENT:\u001b[0m initial total \u001b[1;36m10\u001b[0m with ACE \u001b[3;91mFalse\u001b[0m => \u001b[1minitial action\u001b[0m HIT\n"
      ]
     },
     "metadata": {},
     "output_type": "display_data"
    },
    {
     "data": {
      "text/html": [
       "<pre style=\"white-space:pre;overflow-x:auto;line-height:normal;font-family:Menlo,'DejaVu Sans Mono',consolas,'Courier New',monospace\"><span style=\"color: #000080; text-decoration-color: #000080; font-weight: bold\">AGENT:</span> card drawn <span style=\"color: #008080; text-decoration-color: #008080; font-weight: bold\">7</span>♦ =&gt; total <span style=\"color: #008080; text-decoration-color: #008080; font-weight: bold\">17</span> with ACE <span style=\"color: #ff0000; text-decoration-color: #ff0000; font-style: italic\">False</span> =&gt; action chosen HOLD\n",
       "</pre>\n"
      ],
      "text/plain": [
       "\u001b[1;34mAGENT:\u001b[0m card drawn \u001b[1;36m7\u001b[0m♦ => total \u001b[1;36m17\u001b[0m with ACE \u001b[3;91mFalse\u001b[0m => action chosen HOLD\n"
      ]
     },
     "metadata": {},
     "output_type": "display_data"
    },
    {
     "data": {
      "text/html": [
       "<pre style=\"white-space:pre;overflow-x:auto;line-height:normal;font-family:Menlo,'DejaVu Sans Mono',consolas,'Courier New',monospace\"><span style=\"color: #000080; text-decoration-color: #000080; font-weight: bold\">AGENT:</span> turn finished with final total <span style=\"color: #008080; text-decoration-color: #008080; font-weight: bold\">17</span>\n",
       "</pre>\n"
      ],
      "text/plain": [
       "\u001b[1;34mAGENT:\u001b[0m turn finished with final total \u001b[1;36m17\u001b[0m\n"
      ]
     },
     "metadata": {},
     "output_type": "display_data"
    },
    {
     "data": {
      "text/plain": [
       "(17,\n",
       " [(State(total=10, has_ace=False, dealer_total=10), <Action.HIT: 0>),\n",
       "  (State(total=17, has_ace=False, dealer_total=10), <Action.HOLD: 1>)])"
      ]
     },
     "execution_count": 25,
     "metadata": {},
     "output_type": "execute_result"
    }
   ],
   "source": [
    "# When not specifying the initial state, one will be selected at random!\n",
    "# When also not specifying the initial action, one will be choses according \n",
    "# to the given policy for the initial state\n",
    "play_turn(dealer_policy, deck, report_callback=report_callback)"
   ]
  },
  {
   "cell_type": "code",
   "execution_count": 26,
   "id": "ad14929f-785f-40c2-9c23-34f880e2fa39",
   "metadata": {},
   "outputs": [
    {
     "data": {
      "text/html": [
       "<pre style=\"white-space:pre;overflow-x:auto;line-height:normal;font-family:Menlo,'DejaVu Sans Mono',consolas,'Courier New',monospace\"><span style=\"color: #000080; text-decoration-color: #000080; font-weight: bold\">AGENT:</span> <span style=\"font-weight: bold\">initial state</span> <span style=\"color: #800080; text-decoration-color: #800080; font-weight: bold\">State</span><span style=\"font-weight: bold\">(</span><span style=\"color: #808000; text-decoration-color: #808000\">total</span>=<span style=\"color: #008080; text-decoration-color: #008080; font-weight: bold\">9</span>, <span style=\"color: #808000; text-decoration-color: #808000\">has_ace</span>=<span style=\"color: #ff0000; text-decoration-color: #ff0000; font-style: italic\">False</span>, <span style=\"color: #808000; text-decoration-color: #808000\">dealer_total</span>=<span style=\"color: #008080; text-decoration-color: #008080; font-weight: bold\">10</span><span style=\"font-weight: bold\">)</span>\n",
       "</pre>\n"
      ],
      "text/plain": [
       "\u001b[1;34mAGENT:\u001b[0m \u001b[1minitial state\u001b[0m \u001b[1;35mState\u001b[0m\u001b[1m(\u001b[0m\u001b[33mtotal\u001b[0m=\u001b[1;36m9\u001b[0m, \u001b[33mhas_ace\u001b[0m=\u001b[3;91mFalse\u001b[0m, \u001b[33mdealer_total\u001b[0m=\u001b[1;36m10\u001b[0m\u001b[1m)\u001b[0m\n"
      ]
     },
     "metadata": {},
     "output_type": "display_data"
    },
    {
     "data": {
      "text/html": [
       "<pre style=\"white-space:pre;overflow-x:auto;line-height:normal;font-family:Menlo,'DejaVu Sans Mono',consolas,'Courier New',monospace\"><span style=\"color: #000080; text-decoration-color: #000080; font-weight: bold\">AGENT:</span> initial total <span style=\"color: #008080; text-decoration-color: #008080; font-weight: bold\">9</span> with ACE <span style=\"color: #ff0000; text-decoration-color: #ff0000; font-style: italic\">False</span> =&gt; <span style=\"font-weight: bold\">initial action</span> HOLD\n",
       "</pre>\n"
      ],
      "text/plain": [
       "\u001b[1;34mAGENT:\u001b[0m initial total \u001b[1;36m9\u001b[0m with ACE \u001b[3;91mFalse\u001b[0m => \u001b[1minitial action\u001b[0m HOLD\n"
      ]
     },
     "metadata": {},
     "output_type": "display_data"
    },
    {
     "data": {
      "text/html": [
       "<pre style=\"white-space:pre;overflow-x:auto;line-height:normal;font-family:Menlo,'DejaVu Sans Mono',consolas,'Courier New',monospace\"><span style=\"color: #000080; text-decoration-color: #000080; font-weight: bold\">AGENT:</span> turn finished with final total <span style=\"color: #008080; text-decoration-color: #008080; font-weight: bold\">9</span>\n",
       "</pre>\n"
      ],
      "text/plain": [
       "\u001b[1;34mAGENT:\u001b[0m turn finished with final total \u001b[1;36m9\u001b[0m\n"
      ]
     },
     "metadata": {},
     "output_type": "display_data"
    },
    {
     "data": {
      "text/plain": [
       "(9, [(State(total=9, has_ace=False, dealer_total=10), <Action.HOLD: 1>)])"
      ]
     },
     "execution_count": 26,
     "metadata": {},
     "output_type": "execute_result"
    }
   ],
   "source": [
    "# If we like, we can force the initial action.\n",
    "# Subsequent actions will be selected according to the given policy.\n",
    "play_turn(dealer_policy, deck, init_action=Action.HOLD, report_callback=report_callback)"
   ]
  },
  {
   "cell_type": "code",
   "execution_count": 27,
   "id": "3012ffb4-80d6-4850-9ef9-a33c692dced2",
   "metadata": {},
   "outputs": [
    {
     "data": {
      "text/html": [
       "<pre style=\"white-space:pre;overflow-x:auto;line-height:normal;font-family:Menlo,'DejaVu Sans Mono',consolas,'Courier New',monospace\"><span style=\"color: #000080; text-decoration-color: #000080; font-weight: bold\">AGENT:</span> <span style=\"font-weight: bold\">initial state</span> <span style=\"color: #800080; text-decoration-color: #800080; font-weight: bold\">State</span><span style=\"font-weight: bold\">(</span><span style=\"color: #808000; text-decoration-color: #808000\">total</span>=<span style=\"color: #008080; text-decoration-color: #008080; font-weight: bold\">3</span>, <span style=\"color: #808000; text-decoration-color: #808000\">has_ace</span>=<span style=\"color: #ff0000; text-decoration-color: #ff0000; font-style: italic\">False</span>, <span style=\"color: #808000; text-decoration-color: #808000\">dealer_total</span>=<span style=\"color: #008080; text-decoration-color: #008080; font-weight: bold\">2</span><span style=\"font-weight: bold\">)</span>\n",
       "</pre>\n"
      ],
      "text/plain": [
       "\u001b[1;34mAGENT:\u001b[0m \u001b[1minitial state\u001b[0m \u001b[1;35mState\u001b[0m\u001b[1m(\u001b[0m\u001b[33mtotal\u001b[0m=\u001b[1;36m3\u001b[0m, \u001b[33mhas_ace\u001b[0m=\u001b[3;91mFalse\u001b[0m, \u001b[33mdealer_total\u001b[0m=\u001b[1;36m2\u001b[0m\u001b[1m)\u001b[0m\n"
      ]
     },
     "metadata": {},
     "output_type": "display_data"
    },
    {
     "data": {
      "text/html": [
       "<pre style=\"white-space:pre;overflow-x:auto;line-height:normal;font-family:Menlo,'DejaVu Sans Mono',consolas,'Courier New',monospace\"><span style=\"color: #000080; text-decoration-color: #000080; font-weight: bold\">AGENT:</span> initial total <span style=\"color: #008080; text-decoration-color: #008080; font-weight: bold\">3</span> with ACE <span style=\"color: #ff0000; text-decoration-color: #ff0000; font-style: italic\">False</span> =&gt; <span style=\"font-weight: bold\">initial action</span> HOLD\n",
       "</pre>\n"
      ],
      "text/plain": [
       "\u001b[1;34mAGENT:\u001b[0m initial total \u001b[1;36m3\u001b[0m with ACE \u001b[3;91mFalse\u001b[0m => \u001b[1minitial action\u001b[0m HOLD\n"
      ]
     },
     "metadata": {},
     "output_type": "display_data"
    },
    {
     "data": {
      "text/html": [
       "<pre style=\"white-space:pre;overflow-x:auto;line-height:normal;font-family:Menlo,'DejaVu Sans Mono',consolas,'Courier New',monospace\"><span style=\"color: #000080; text-decoration-color: #000080; font-weight: bold\">AGENT:</span> turn finished with final total <span style=\"color: #008080; text-decoration-color: #008080; font-weight: bold\">3</span>\n",
       "</pre>\n"
      ],
      "text/plain": [
       "\u001b[1;34mAGENT:\u001b[0m turn finished with final total \u001b[1;36m3\u001b[0m\n"
      ]
     },
     "metadata": {},
     "output_type": "display_data"
    },
    {
     "data": {
      "text/plain": [
       "(3, [(State(total=3, has_ace=False, dealer_total=2), <Action.HOLD: 1>)])"
      ]
     },
     "execution_count": 27,
     "metadata": {},
     "output_type": "execute_result"
    }
   ],
   "source": [
    "# If we like, we may also require the initial action to be selected at random\n",
    "# Subsequent actions will be selected according to the given policy.\n",
    "play_turn(dealer_policy, deck, init_action=\"random\", report_callback=report_callback)"
   ]
  },
  {
   "cell_type": "markdown",
   "id": "4bceb8c8-803c-499c-8b8e-334742519838",
   "metadata": {},
   "source": [
    "## Using a Policy: Playing an Entire Game"
   ]
  },
  {
   "cell_type": "markdown",
   "id": "eaf102fe-d34e-421f-8727-6f961cdf7b5d",
   "metadata": {},
   "source": [
    "We will now implement a function that will be used to play entire games. In addition to playing the game, the function will also collect experience - tripples containing states, actions, and the total discounted reward - collected during play."
   ]
  },
  {
   "cell_type": "code",
   "execution_count": 28,
   "id": "e7ec80c4-eb71-490f-b182-ef5b1eabb00d",
   "metadata": {},
   "outputs": [],
   "source": [
    "Experience = tuple[State, Action, float]"
   ]
  },
  {
   "cell_type": "markdown",
   "id": "78149085-009b-485d-ae93-937cf166852d",
   "metadata": {},
   "source": [
    "We will first a need some auxiliary functionality that computes discounted gains from rewards, and builds experience from player's turn log."
   ]
  },
  {
   "cell_type": "code",
   "execution_count": 29,
   "id": "c4d06ada-3b0e-480a-a88e-bc5536eac694",
   "metadata": {},
   "outputs": [],
   "source": [
    "def compute_gain(rewards: list[float], gamma: float) -> float:\n",
    "    \"\"\"\n",
    "    Compute the total gain given the list of future rewards.\n",
    "    \n",
    "    Args:\n",
    "        rewards (list[float]): List of future rewards.\n",
    "        gamma: discount factor\n",
    "\n",
    "    Returns:\n",
    "        float: The total gain\n",
    "    \"\"\"\n",
    "    g = 0\n",
    "    w = 1\n",
    "    for r in rewards:\n",
    "        g += w*r\n",
    "        w *= gamma\n",
    "    return g\n",
    "\n",
    "def discounted_gains(rewards: list[float], gamma) -> list[float]:\n",
    "    \"\"\"\n",
    "    Compute list of discounted gains, given a sequence of rewards.\n",
    "\n",
    "    Args:\n",
    "        rewards (list[float]): Sequence of rewards.\n",
    "        gamma: discount factor\n",
    "\n",
    "    Returns:\n",
    "        list[float]: sequence of gains\n",
    "    \"\"\"\n",
    "    gains = [compute_gain(rewards[i:], gamma) for i in range(len(rewards))]\n",
    "    return gains\n",
    "\n",
    "def build_experience(turn_log: TurnLog, result: int, gamma) -> Experience:\n",
    "    rewards = [0 for _ in turn_log]\n",
    "    rewards[-1] = result\n",
    "    gains = discounted_gains(rewards, gamma)\n",
    "    exp = [(s, a, g) for (s, a), g in zip(turn_log, gains)]\n",
    "    return exp"
   ]
  },
  {
   "cell_type": "markdown",
   "id": "bbfcdd7d-4738-44e5-8d05-ebe761e9ded3",
   "metadata": {},
   "source": [
    "Let us see how the above functions work first."
   ]
  },
  {
   "cell_type": "code",
   "execution_count": 30,
   "id": "6876872d-9a1e-48cb-8616-c75ddb06e8a4",
   "metadata": {},
   "outputs": [],
   "source": [
    "rewards = [0, 0, 0, 1]"
   ]
  },
  {
   "cell_type": "code",
   "execution_count": 31,
   "id": "cc3a1be6-5a2a-4da0-9cc2-75adaf90babe",
   "metadata": {},
   "outputs": [
    {
     "data": {
      "text/plain": [
       "[1.0, 1.0, 1.0, 1]"
      ]
     },
     "execution_count": 31,
     "metadata": {},
     "output_type": "execute_result"
    }
   ],
   "source": [
    "discounted_gains(rewards, 1.0)"
   ]
  },
  {
   "cell_type": "code",
   "execution_count": 32,
   "id": "dd0e1a0c-4695-46a5-af7a-3522d6aa99ea",
   "metadata": {},
   "outputs": [
    {
     "data": {
      "text/plain": [
       "[0.7290000000000001, 0.81, 0.9, 1]"
      ]
     },
     "execution_count": 32,
     "metadata": {},
     "output_type": "execute_result"
    }
   ],
   "source": [
    "discounted_gains(rewards, 0.9)"
   ]
  },
  {
   "cell_type": "markdown",
   "id": "b9a0bab0-c885-4e65-a99c-444777807fbf",
   "metadata": {},
   "source": [
    "We are now ready to actually implement the function to play games..."
   ]
  },
  {
   "cell_type": "code",
   "execution_count": 33,
   "id": "37d7898b-793d-426e-bb67-dbd73e04f07d",
   "metadata": {},
   "outputs": [],
   "source": [
    "def play_game(policy: Policy, \n",
    "              deck: CardDeck, \n",
    "              init_state: State | None = None,\n",
    "              init_action: Action | str | None = None,\n",
    "              gamma : float = 1.0,\n",
    "              game_report_callback: ReportCallback | None = None,\n",
    "              player_report_callback: ReportCallback | None = None,\n",
    "              dealer_report_callback: ReportCallback | None = None) -> tuple[int, Experience]:\n",
    "    report = lambda txt: game_report_callback and game_report_callback(txt)\n",
    "    state = get_init_state(init_state, deck)\n",
    "    action = get_init_action(init_action, state, policy)\n",
    "    player_total, turn_log = play_turn(policy, deck, init_state=state, init_action=action, report_callback=player_report_callback)\n",
    "    if player_total is not None:\n",
    "        dealer_card = CardValue(state.dealer_total) if state.dealer_total != 11 else CardValue.ACE\n",
    "        dealer_total, dealer_has_ace = update_total(0, False, dealer_card)\n",
    "        dealer_state = State(dealer_total, dealer_has_ace, 0)\n",
    "        dealer_total, _ = play_turn(dealer_policy, deck, init_state=dealer_state, report_callback=dealer_report_callback)\n",
    "        if dealer_total is not None:\n",
    "            if player_total > dealer_total:\n",
    "                result = +1\n",
    "            elif player_total == dealer_total:\n",
    "                result = 0\n",
    "            else:\n",
    "                result = -1\n",
    "        else:\n",
    "            result = +1\n",
    "    else:\n",
    "        result = -1\n",
    "    exp = build_experience(turn_log, result, gamma)\n",
    "    if result == 1:\n",
    "        report(\"Player WINS\")\n",
    "    elif result == 0:\n",
    "        report(\"Game DRAW\")\n",
    "    else:\n",
    "        report(\"Player LOSES\")\n",
    "    return result, exp"
   ]
  },
  {
   "cell_type": "markdown",
   "id": "beb19c52-1994-4bbb-91bd-f6f81fa25f74",
   "metadata": {},
   "source": [
    "In order to test it, let us define some handy report callbacks"
   ]
  },
  {
   "cell_type": "code",
   "execution_count": 34,
   "id": "ecdb58ff-815b-42e5-8f5f-970ff80b7aa6",
   "metadata": {},
   "outputs": [],
   "source": [
    "player_report_callback = lambda txt: print(f\"[bold blue]PLAYER:[/] {txt}\")\n",
    "dealer_report_callback = lambda txt: print(f\"[bold cyan]DEALER:[/] {txt}\")\n",
    "game_report_callback = lambda txt: print(f\"[bold red]{txt}[/]\")\n",
    "\n",
    "callbacks = {\n",
    "    \"player_report_callback\": player_report_callback,\n",
    "    \"dealer_report_callback\": dealer_report_callback,\n",
    "    \"game_report_callback\": game_report_callback\n",
    "}"
   ]
  },
  {
   "cell_type": "markdown",
   "id": "8ebf0df4-3d33-494f-b3ff-6d45a1fd786a",
   "metadata": {},
   "source": [
    "Let us play a bit with the two above-defined policies. Later we will show that the dealer policy is considerably more meaningfull than the random one (as expected!)"
   ]
  },
  {
   "cell_type": "code",
   "execution_count": 35,
   "id": "53bb5df3-1ba6-434d-9702-1100c687aedc",
   "metadata": {},
   "outputs": [
    {
     "data": {
      "text/html": [
       "<pre style=\"white-space:pre;overflow-x:auto;line-height:normal;font-family:Menlo,'DejaVu Sans Mono',consolas,'Courier New',monospace\"><span style=\"color: #000080; text-decoration-color: #000080; font-weight: bold\">PLAYER:</span> <span style=\"font-weight: bold\">initial state</span> <span style=\"color: #800080; text-decoration-color: #800080; font-weight: bold\">State</span><span style=\"font-weight: bold\">(</span><span style=\"color: #808000; text-decoration-color: #808000\">total</span>=<span style=\"color: #008080; text-decoration-color: #008080; font-weight: bold\">6</span>, <span style=\"color: #808000; text-decoration-color: #808000\">has_ace</span>=<span style=\"color: #ff0000; text-decoration-color: #ff0000; font-style: italic\">False</span>, <span style=\"color: #808000; text-decoration-color: #808000\">dealer_total</span>=<span style=\"color: #008080; text-decoration-color: #008080; font-weight: bold\">3</span><span style=\"font-weight: bold\">)</span>\n",
       "</pre>\n"
      ],
      "text/plain": [
       "\u001b[1;34mPLAYER:\u001b[0m \u001b[1minitial state\u001b[0m \u001b[1;35mState\u001b[0m\u001b[1m(\u001b[0m\u001b[33mtotal\u001b[0m=\u001b[1;36m6\u001b[0m, \u001b[33mhas_ace\u001b[0m=\u001b[3;91mFalse\u001b[0m, \u001b[33mdealer_total\u001b[0m=\u001b[1;36m3\u001b[0m\u001b[1m)\u001b[0m\n"
      ]
     },
     "metadata": {},
     "output_type": "display_data"
    },
    {
     "data": {
      "text/html": [
       "<pre style=\"white-space:pre;overflow-x:auto;line-height:normal;font-family:Menlo,'DejaVu Sans Mono',consolas,'Courier New',monospace\"><span style=\"color: #000080; text-decoration-color: #000080; font-weight: bold\">PLAYER:</span> initial total <span style=\"color: #008080; text-decoration-color: #008080; font-weight: bold\">6</span> with ACE <span style=\"color: #ff0000; text-decoration-color: #ff0000; font-style: italic\">False</span> =&gt; <span style=\"font-weight: bold\">initial action</span> HOLD\n",
       "</pre>\n"
      ],
      "text/plain": [
       "\u001b[1;34mPLAYER:\u001b[0m initial total \u001b[1;36m6\u001b[0m with ACE \u001b[3;91mFalse\u001b[0m => \u001b[1minitial action\u001b[0m HOLD\n"
      ]
     },
     "metadata": {},
     "output_type": "display_data"
    },
    {
     "data": {
      "text/html": [
       "<pre style=\"white-space:pre;overflow-x:auto;line-height:normal;font-family:Menlo,'DejaVu Sans Mono',consolas,'Courier New',monospace\"><span style=\"color: #000080; text-decoration-color: #000080; font-weight: bold\">PLAYER:</span> turn finished with final total <span style=\"color: #008080; text-decoration-color: #008080; font-weight: bold\">6</span>\n",
       "</pre>\n"
      ],
      "text/plain": [
       "\u001b[1;34mPLAYER:\u001b[0m turn finished with final total \u001b[1;36m6\u001b[0m\n"
      ]
     },
     "metadata": {},
     "output_type": "display_data"
    },
    {
     "data": {
      "text/html": [
       "<pre style=\"white-space:pre;overflow-x:auto;line-height:normal;font-family:Menlo,'DejaVu Sans Mono',consolas,'Courier New',monospace\"><span style=\"color: #008080; text-decoration-color: #008080; font-weight: bold\">DEALER:</span> <span style=\"font-weight: bold\">initial state</span> <span style=\"color: #800080; text-decoration-color: #800080; font-weight: bold\">State</span><span style=\"font-weight: bold\">(</span><span style=\"color: #808000; text-decoration-color: #808000\">total</span>=<span style=\"color: #008080; text-decoration-color: #008080; font-weight: bold\">3</span>, <span style=\"color: #808000; text-decoration-color: #808000\">has_ace</span>=<span style=\"color: #ff0000; text-decoration-color: #ff0000; font-style: italic\">False</span>, <span style=\"color: #808000; text-decoration-color: #808000\">dealer_total</span>=<span style=\"color: #008080; text-decoration-color: #008080; font-weight: bold\">0</span><span style=\"font-weight: bold\">)</span>\n",
       "</pre>\n"
      ],
      "text/plain": [
       "\u001b[1;36mDEALER:\u001b[0m \u001b[1minitial state\u001b[0m \u001b[1;35mState\u001b[0m\u001b[1m(\u001b[0m\u001b[33mtotal\u001b[0m=\u001b[1;36m3\u001b[0m, \u001b[33mhas_ace\u001b[0m=\u001b[3;91mFalse\u001b[0m, \u001b[33mdealer_total\u001b[0m=\u001b[1;36m0\u001b[0m\u001b[1m)\u001b[0m\n"
      ]
     },
     "metadata": {},
     "output_type": "display_data"
    },
    {
     "data": {
      "text/html": [
       "<pre style=\"white-space:pre;overflow-x:auto;line-height:normal;font-family:Menlo,'DejaVu Sans Mono',consolas,'Courier New',monospace\"><span style=\"color: #008080; text-decoration-color: #008080; font-weight: bold\">DEALER:</span> initial total <span style=\"color: #008080; text-decoration-color: #008080; font-weight: bold\">3</span> with ACE <span style=\"color: #ff0000; text-decoration-color: #ff0000; font-style: italic\">False</span> =&gt; <span style=\"font-weight: bold\">initial action</span> HIT\n",
       "</pre>\n"
      ],
      "text/plain": [
       "\u001b[1;36mDEALER:\u001b[0m initial total \u001b[1;36m3\u001b[0m with ACE \u001b[3;91mFalse\u001b[0m => \u001b[1minitial action\u001b[0m HIT\n"
      ]
     },
     "metadata": {},
     "output_type": "display_data"
    },
    {
     "data": {
      "text/html": [
       "<pre style=\"white-space:pre;overflow-x:auto;line-height:normal;font-family:Menlo,'DejaVu Sans Mono',consolas,'Courier New',monospace\"><span style=\"color: #008080; text-decoration-color: #008080; font-weight: bold\">DEALER:</span> card drawn <span style=\"color: #008080; text-decoration-color: #008080; font-weight: bold\">7</span>♠ =&gt; total <span style=\"color: #008080; text-decoration-color: #008080; font-weight: bold\">10</span> with ACE <span style=\"color: #ff0000; text-decoration-color: #ff0000; font-style: italic\">False</span> =&gt; action chosen HIT\n",
       "</pre>\n"
      ],
      "text/plain": [
       "\u001b[1;36mDEALER:\u001b[0m card drawn \u001b[1;36m7\u001b[0m♠ => total \u001b[1;36m10\u001b[0m with ACE \u001b[3;91mFalse\u001b[0m => action chosen HIT\n"
      ]
     },
     "metadata": {},
     "output_type": "display_data"
    },
    {
     "data": {
      "text/html": [
       "<pre style=\"white-space:pre;overflow-x:auto;line-height:normal;font-family:Menlo,'DejaVu Sans Mono',consolas,'Courier New',monospace\"><span style=\"color: #008080; text-decoration-color: #008080; font-weight: bold\">DEALER:</span> card drawn <span style=\"color: #008080; text-decoration-color: #008080; font-weight: bold\">8</span>♦ =&gt; total <span style=\"color: #008080; text-decoration-color: #008080; font-weight: bold\">18</span> with ACE <span style=\"color: #ff0000; text-decoration-color: #ff0000; font-style: italic\">False</span> =&gt; action chosen HOLD\n",
       "</pre>\n"
      ],
      "text/plain": [
       "\u001b[1;36mDEALER:\u001b[0m card drawn \u001b[1;36m8\u001b[0m♦ => total \u001b[1;36m18\u001b[0m with ACE \u001b[3;91mFalse\u001b[0m => action chosen HOLD\n"
      ]
     },
     "metadata": {},
     "output_type": "display_data"
    },
    {
     "data": {
      "text/html": [
       "<pre style=\"white-space:pre;overflow-x:auto;line-height:normal;font-family:Menlo,'DejaVu Sans Mono',consolas,'Courier New',monospace\"><span style=\"color: #008080; text-decoration-color: #008080; font-weight: bold\">DEALER:</span> turn finished with final total <span style=\"color: #008080; text-decoration-color: #008080; font-weight: bold\">18</span>\n",
       "</pre>\n"
      ],
      "text/plain": [
       "\u001b[1;36mDEALER:\u001b[0m turn finished with final total \u001b[1;36m18\u001b[0m\n"
      ]
     },
     "metadata": {},
     "output_type": "display_data"
    },
    {
     "data": {
      "text/html": [
       "<pre style=\"white-space:pre;overflow-x:auto;line-height:normal;font-family:Menlo,'DejaVu Sans Mono',consolas,'Courier New',monospace\"><span style=\"color: #800000; text-decoration-color: #800000; font-weight: bold\">Player LOSES</span>\n",
       "</pre>\n"
      ],
      "text/plain": [
       "\u001b[1;31mPlayer LOSES\u001b[0m\n"
      ]
     },
     "metadata": {},
     "output_type": "display_data"
    },
    {
     "data": {
      "text/plain": [
       "(-1, [(State(total=6, has_ace=False, dealer_total=3), <Action.HOLD: 1>, -1)])"
      ]
     },
     "execution_count": 35,
     "metadata": {},
     "output_type": "execute_result"
    }
   ],
   "source": [
    "play_game(random_policy, deck, **callbacks)"
   ]
  },
  {
   "cell_type": "code",
   "execution_count": 36,
   "id": "41708643-0777-486b-b710-f8039878da40",
   "metadata": {},
   "outputs": [
    {
     "data": {
      "text/html": [
       "<pre style=\"white-space:pre;overflow-x:auto;line-height:normal;font-family:Menlo,'DejaVu Sans Mono',consolas,'Courier New',monospace\"><span style=\"color: #000080; text-decoration-color: #000080; font-weight: bold\">PLAYER:</span> <span style=\"font-weight: bold\">initial state</span> <span style=\"color: #800080; text-decoration-color: #800080; font-weight: bold\">State</span><span style=\"font-weight: bold\">(</span><span style=\"color: #808000; text-decoration-color: #808000\">total</span>=<span style=\"color: #008080; text-decoration-color: #008080; font-weight: bold\">2</span>, <span style=\"color: #808000; text-decoration-color: #808000\">has_ace</span>=<span style=\"color: #ff0000; text-decoration-color: #ff0000; font-style: italic\">False</span>, <span style=\"color: #808000; text-decoration-color: #808000\">dealer_total</span>=<span style=\"color: #008080; text-decoration-color: #008080; font-weight: bold\">6</span><span style=\"font-weight: bold\">)</span>\n",
       "</pre>\n"
      ],
      "text/plain": [
       "\u001b[1;34mPLAYER:\u001b[0m \u001b[1minitial state\u001b[0m \u001b[1;35mState\u001b[0m\u001b[1m(\u001b[0m\u001b[33mtotal\u001b[0m=\u001b[1;36m2\u001b[0m, \u001b[33mhas_ace\u001b[0m=\u001b[3;91mFalse\u001b[0m, \u001b[33mdealer_total\u001b[0m=\u001b[1;36m6\u001b[0m\u001b[1m)\u001b[0m\n"
      ]
     },
     "metadata": {},
     "output_type": "display_data"
    },
    {
     "data": {
      "text/html": [
       "<pre style=\"white-space:pre;overflow-x:auto;line-height:normal;font-family:Menlo,'DejaVu Sans Mono',consolas,'Courier New',monospace\"><span style=\"color: #000080; text-decoration-color: #000080; font-weight: bold\">PLAYER:</span> initial total <span style=\"color: #008080; text-decoration-color: #008080; font-weight: bold\">2</span> with ACE <span style=\"color: #ff0000; text-decoration-color: #ff0000; font-style: italic\">False</span> =&gt; <span style=\"font-weight: bold\">initial action</span> HIT\n",
       "</pre>\n"
      ],
      "text/plain": [
       "\u001b[1;34mPLAYER:\u001b[0m initial total \u001b[1;36m2\u001b[0m with ACE \u001b[3;91mFalse\u001b[0m => \u001b[1minitial action\u001b[0m HIT\n"
      ]
     },
     "metadata": {},
     "output_type": "display_data"
    },
    {
     "data": {
      "text/html": [
       "<pre style=\"white-space:pre;overflow-x:auto;line-height:normal;font-family:Menlo,'DejaVu Sans Mono',consolas,'Courier New',monospace\"><span style=\"color: #000080; text-decoration-color: #000080; font-weight: bold\">PLAYER:</span> card drawn <span style=\"color: #008080; text-decoration-color: #008080; font-weight: bold\">9</span>♥ =&gt; total <span style=\"color: #008080; text-decoration-color: #008080; font-weight: bold\">11</span> with ACE <span style=\"color: #ff0000; text-decoration-color: #ff0000; font-style: italic\">False</span> =&gt; action chosen HIT\n",
       "</pre>\n"
      ],
      "text/plain": [
       "\u001b[1;34mPLAYER:\u001b[0m card drawn \u001b[1;36m9\u001b[0m♥ => total \u001b[1;36m11\u001b[0m with ACE \u001b[3;91mFalse\u001b[0m => action chosen HIT\n"
      ]
     },
     "metadata": {},
     "output_type": "display_data"
    },
    {
     "data": {
      "text/html": [
       "<pre style=\"white-space:pre;overflow-x:auto;line-height:normal;font-family:Menlo,'DejaVu Sans Mono',consolas,'Courier New',monospace\"><span style=\"color: #000080; text-decoration-color: #000080; font-weight: bold\">PLAYER:</span> card drawn <span style=\"color: #008080; text-decoration-color: #008080; font-weight: bold\">9</span>♦ =&gt; total <span style=\"color: #008080; text-decoration-color: #008080; font-weight: bold\">20</span> with ACE <span style=\"color: #ff0000; text-decoration-color: #ff0000; font-style: italic\">False</span> =&gt; action chosen HOLD\n",
       "</pre>\n"
      ],
      "text/plain": [
       "\u001b[1;34mPLAYER:\u001b[0m card drawn \u001b[1;36m9\u001b[0m♦ => total \u001b[1;36m20\u001b[0m with ACE \u001b[3;91mFalse\u001b[0m => action chosen HOLD\n"
      ]
     },
     "metadata": {},
     "output_type": "display_data"
    },
    {
     "data": {
      "text/html": [
       "<pre style=\"white-space:pre;overflow-x:auto;line-height:normal;font-family:Menlo,'DejaVu Sans Mono',consolas,'Courier New',monospace\"><span style=\"color: #000080; text-decoration-color: #000080; font-weight: bold\">PLAYER:</span> turn finished with final total <span style=\"color: #008080; text-decoration-color: #008080; font-weight: bold\">20</span>\n",
       "</pre>\n"
      ],
      "text/plain": [
       "\u001b[1;34mPLAYER:\u001b[0m turn finished with final total \u001b[1;36m20\u001b[0m\n"
      ]
     },
     "metadata": {},
     "output_type": "display_data"
    },
    {
     "data": {
      "text/html": [
       "<pre style=\"white-space:pre;overflow-x:auto;line-height:normal;font-family:Menlo,'DejaVu Sans Mono',consolas,'Courier New',monospace\"><span style=\"color: #008080; text-decoration-color: #008080; font-weight: bold\">DEALER:</span> <span style=\"font-weight: bold\">initial state</span> <span style=\"color: #800080; text-decoration-color: #800080; font-weight: bold\">State</span><span style=\"font-weight: bold\">(</span><span style=\"color: #808000; text-decoration-color: #808000\">total</span>=<span style=\"color: #008080; text-decoration-color: #008080; font-weight: bold\">6</span>, <span style=\"color: #808000; text-decoration-color: #808000\">has_ace</span>=<span style=\"color: #ff0000; text-decoration-color: #ff0000; font-style: italic\">False</span>, <span style=\"color: #808000; text-decoration-color: #808000\">dealer_total</span>=<span style=\"color: #008080; text-decoration-color: #008080; font-weight: bold\">0</span><span style=\"font-weight: bold\">)</span>\n",
       "</pre>\n"
      ],
      "text/plain": [
       "\u001b[1;36mDEALER:\u001b[0m \u001b[1minitial state\u001b[0m \u001b[1;35mState\u001b[0m\u001b[1m(\u001b[0m\u001b[33mtotal\u001b[0m=\u001b[1;36m6\u001b[0m, \u001b[33mhas_ace\u001b[0m=\u001b[3;91mFalse\u001b[0m, \u001b[33mdealer_total\u001b[0m=\u001b[1;36m0\u001b[0m\u001b[1m)\u001b[0m\n"
      ]
     },
     "metadata": {},
     "output_type": "display_data"
    },
    {
     "data": {
      "text/html": [
       "<pre style=\"white-space:pre;overflow-x:auto;line-height:normal;font-family:Menlo,'DejaVu Sans Mono',consolas,'Courier New',monospace\"><span style=\"color: #008080; text-decoration-color: #008080; font-weight: bold\">DEALER:</span> initial total <span style=\"color: #008080; text-decoration-color: #008080; font-weight: bold\">6</span> with ACE <span style=\"color: #ff0000; text-decoration-color: #ff0000; font-style: italic\">False</span> =&gt; <span style=\"font-weight: bold\">initial action</span> HIT\n",
       "</pre>\n"
      ],
      "text/plain": [
       "\u001b[1;36mDEALER:\u001b[0m initial total \u001b[1;36m6\u001b[0m with ACE \u001b[3;91mFalse\u001b[0m => \u001b[1minitial action\u001b[0m HIT\n"
      ]
     },
     "metadata": {},
     "output_type": "display_data"
    },
    {
     "data": {
      "text/html": [
       "<pre style=\"white-space:pre;overflow-x:auto;line-height:normal;font-family:Menlo,'DejaVu Sans Mono',consolas,'Courier New',monospace\"><span style=\"color: #008080; text-decoration-color: #008080; font-weight: bold\">DEALER:</span> card drawn K♥ =&gt; total <span style=\"color: #008080; text-decoration-color: #008080; font-weight: bold\">16</span> with ACE <span style=\"color: #ff0000; text-decoration-color: #ff0000; font-style: italic\">False</span> =&gt; action chosen HIT\n",
       "</pre>\n"
      ],
      "text/plain": [
       "\u001b[1;36mDEALER:\u001b[0m card drawn K♥ => total \u001b[1;36m16\u001b[0m with ACE \u001b[3;91mFalse\u001b[0m => action chosen HIT\n"
      ]
     },
     "metadata": {},
     "output_type": "display_data"
    },
    {
     "data": {
      "text/html": [
       "<pre style=\"white-space:pre;overflow-x:auto;line-height:normal;font-family:Menlo,'DejaVu Sans Mono',consolas,'Courier New',monospace\"><span style=\"color: #008080; text-decoration-color: #008080; font-weight: bold\">DEALER:</span> card drawn <span style=\"color: #008080; text-decoration-color: #008080; font-weight: bold\">5</span>♣ =&gt; total <span style=\"color: #008080; text-decoration-color: #008080; font-weight: bold\">21</span> with ACE <span style=\"color: #ff0000; text-decoration-color: #ff0000; font-style: italic\">False</span> =&gt; action chosen HOLD\n",
       "</pre>\n"
      ],
      "text/plain": [
       "\u001b[1;36mDEALER:\u001b[0m card drawn \u001b[1;36m5\u001b[0m♣ => total \u001b[1;36m21\u001b[0m with ACE \u001b[3;91mFalse\u001b[0m => action chosen HOLD\n"
      ]
     },
     "metadata": {},
     "output_type": "display_data"
    },
    {
     "data": {
      "text/html": [
       "<pre style=\"white-space:pre;overflow-x:auto;line-height:normal;font-family:Menlo,'DejaVu Sans Mono',consolas,'Courier New',monospace\"><span style=\"color: #008080; text-decoration-color: #008080; font-weight: bold\">DEALER:</span> turn finished with final total <span style=\"color: #008080; text-decoration-color: #008080; font-weight: bold\">21</span>\n",
       "</pre>\n"
      ],
      "text/plain": [
       "\u001b[1;36mDEALER:\u001b[0m turn finished with final total \u001b[1;36m21\u001b[0m\n"
      ]
     },
     "metadata": {},
     "output_type": "display_data"
    },
    {
     "data": {
      "text/html": [
       "<pre style=\"white-space:pre;overflow-x:auto;line-height:normal;font-family:Menlo,'DejaVu Sans Mono',consolas,'Courier New',monospace\"><span style=\"color: #800000; text-decoration-color: #800000; font-weight: bold\">Player LOSES</span>\n",
       "</pre>\n"
      ],
      "text/plain": [
       "\u001b[1;31mPlayer LOSES\u001b[0m\n"
      ]
     },
     "metadata": {},
     "output_type": "display_data"
    },
    {
     "data": {
      "text/plain": [
       "(-1,\n",
       " [(State(total=2, has_ace=False, dealer_total=6), <Action.HIT: 0>, -1.0),\n",
       "  (State(total=11, has_ace=False, dealer_total=6), <Action.HIT: 0>, -1.0),\n",
       "  (State(total=20, has_ace=False, dealer_total=6), <Action.HOLD: 1>, -1)])"
      ]
     },
     "execution_count": 36,
     "metadata": {},
     "output_type": "execute_result"
    }
   ],
   "source": [
    "play_game(dealer_policy, deck, **callbacks)"
   ]
  },
  {
   "cell_type": "markdown",
   "id": "a96a2a19-8ad1-4e39-b8b6-883c9e9bab62",
   "metadata": {},
   "source": [
    "Finally, let us define a function that will enable us to apply (and test) different policies. This function will play many games, collect experience and compute the ratio of wins, draws, and losses.\n",
    "\n",
    "But first, we must define **experience** more precisely! Experience is a list of states, actions and gains seen during playtime. In otherwords, to each state-action pair seen in each turn we must associate the total gain received during that game from this point on (possibly discounted by a suitable discount factor - $\\gamma$)"
   ]
  },
  {
   "cell_type": "code",
   "execution_count": 37,
   "id": "093af35c-d25c-454b-965d-e44a31dbb46f",
   "metadata": {},
   "outputs": [],
   "source": [
    "@dataclass\n",
    "class PolicyTestingResult:\n",
    "    games_no: int\n",
    "    score: int\n",
    "    wins: float\n",
    "    draws: float\n",
    "    losses: float\n",
    "\n",
    "    def __repr__(self):\n",
    "        return f\"total score={self.score}/{self.games_no} games ({self.score / self.games_no:.4f} per game) :: W {self.wins*100:.2f}% | D {self.draws*100:.2f}% | L {self.losses*100:.2f}%\""
   ]
  },
  {
   "cell_type": "markdown",
   "id": "7930579c-9cb1-4050-bcbe-bb548f4574e6",
   "metadata": {},
   "source": [
    "We will make two different methods for evaluating policies. The first one chooses initial states and actions randomly in each run. The second one repeatedly enumerates through all possible states and all possible actions, and uses all possible combinations of the initial state-action pair. The enumerated version is possible only because the number of states in (this version of) Blackjack is not high."
   ]
  },
  {
   "cell_type": "code",
   "execution_count": 38,
   "id": "ab3df463-1b99-4625-ab3f-158c25747fda",
   "metadata": {},
   "outputs": [],
   "source": [
    "def apply_policy(policy: Policy, deck: CardDeck, games_no=1000, gamma=1, random_init_state=False, random_init_action=False) -> tuple[PolicyTestingResult, Experience]:\n",
    "    wins, losses, draws, score = 0, 0, 0, 0\n",
    "    init_action = \"random\" if random_init_action else None\n",
    "    init_state = \"random\" if random_init_state else None\n",
    "    experience = []\n",
    "    for k in range(games_no):\n",
    "        res, exp = play_game(policy, deck, gamma=gamma, init_action=init_action)\n",
    "        score += res\n",
    "        experience.extend(exp)\n",
    "        if res == 1:\n",
    "            wins += 1\n",
    "        elif res == 0:\n",
    "            draws += 1\n",
    "        else:\n",
    "            losses += 1\n",
    "    return PolicyTestingResult(games_no, score, wins/games_no, draws/games_no, losses/games_no), experience"
   ]
  },
  {
   "cell_type": "code",
   "execution_count": 39,
   "id": "f6d2dd86-847c-48a8-a56c-25addabf4d74",
   "metadata": {},
   "outputs": [],
   "source": [
    "def apply_policy_exhaustive(policy: Policy, deck: CardDeck, epoch_no=5, gamma=1) -> tuple[PolicyTestingResult, Experience]:\n",
    "    wins, losses, draws, score, games_no = 0, 0, 0, 0, 0\n",
    "    experience = []\n",
    "    for k in range(epoch_no):\n",
    "        for s0 in all_states():\n",
    "            for a0 in [Action.HIT, Action.HOLD]:\n",
    "                res, exp = play_game(policy, deck, gamma=gamma, init_state=s0, init_action=a0)\n",
    "                games_no += 1\n",
    "                score += res\n",
    "                experience.extend(exp)\n",
    "                if res == 1:\n",
    "                    wins += 1\n",
    "                elif res == 0:\n",
    "                    draws += 1\n",
    "                else:\n",
    "                    losses += 1\n",
    "    return PolicyTestingResult(games_no, score, wins/games_no, draws/games_no, losses/games_no), experience            "
   ]
  },
  {
   "cell_type": "markdown",
   "id": "af187070-da8f-493c-a4d8-d27e0da30a36",
   "metadata": {},
   "source": [
    "Let us test the above function by playing just five games, to see what kind of objects it returns. The actual tests require many more games to be played, and this will be done shortly after."
   ]
  },
  {
   "cell_type": "code",
   "execution_count": 40,
   "id": "4df102e5-324b-499d-bbb2-5e470c28cd38",
   "metadata": {},
   "outputs": [
    {
     "data": {
      "text/html": [
       "<pre style=\"white-space:pre;overflow-x:auto;line-height:normal;font-family:Menlo,'DejaVu Sans Mono',consolas,'Courier New',monospace\"><span style=\"font-weight: bold\">(</span>\n",
       "    total <span style=\"color: #808000; text-decoration-color: #808000\">score</span>=<span style=\"color: #008080; text-decoration-color: #008080; font-weight: bold\">-1</span>/<span style=\"color: #008080; text-decoration-color: #008080; font-weight: bold\">5</span> games <span style=\"font-weight: bold\">(</span><span style=\"color: #008080; text-decoration-color: #008080; font-weight: bold\">-0.2000</span> per game<span style=\"font-weight: bold\">)</span> :: W <span style=\"color: #008080; text-decoration-color: #008080; font-weight: bold\">40.00</span>% | D <span style=\"color: #008080; text-decoration-color: #008080; font-weight: bold\">0.00</span>% | L <span style=\"color: #008080; text-decoration-color: #008080; font-weight: bold\">60.00</span>%,\n",
       "    <span style=\"font-weight: bold\">[</span>\n",
       "        <span style=\"font-weight: bold\">(</span><span style=\"color: #800080; text-decoration-color: #800080; font-weight: bold\">State</span><span style=\"font-weight: bold\">(</span><span style=\"color: #808000; text-decoration-color: #808000\">total</span>=<span style=\"color: #008080; text-decoration-color: #008080; font-weight: bold\">10</span>, <span style=\"color: #808000; text-decoration-color: #808000\">has_ace</span>=<span style=\"color: #ff0000; text-decoration-color: #ff0000; font-style: italic\">False</span>, <span style=\"color: #808000; text-decoration-color: #808000\">dealer_total</span>=<span style=\"color: #008080; text-decoration-color: #008080; font-weight: bold\">5</span><span style=\"font-weight: bold\">)</span>, <span style=\"font-weight: bold\">&lt;</span><span style=\"color: #ff00ff; text-decoration-color: #ff00ff; font-weight: bold\">Action.HOLD:</span><span style=\"color: #000000; text-decoration-color: #000000\"> </span><span style=\"color: #008080; text-decoration-color: #008080; font-weight: bold\">1</span><span style=\"color: #000000; text-decoration-color: #000000\">&gt;, </span><span style=\"color: #008080; text-decoration-color: #008080; font-weight: bold\">-1</span><span style=\"color: #000000; text-decoration-color: #000000; font-weight: bold\">)</span><span style=\"color: #000000; text-decoration-color: #000000\">,</span>\n",
       "<span style=\"color: #000000; text-decoration-color: #000000\">        </span><span style=\"color: #000000; text-decoration-color: #000000; font-weight: bold\">(</span><span style=\"color: #800080; text-decoration-color: #800080; font-weight: bold\">State</span><span style=\"color: #000000; text-decoration-color: #000000; font-weight: bold\">(</span><span style=\"color: #808000; text-decoration-color: #808000\">total</span><span style=\"color: #000000; text-decoration-color: #000000\">=</span><span style=\"color: #008080; text-decoration-color: #008080; font-weight: bold\">4</span><span style=\"color: #000000; text-decoration-color: #000000\">, </span><span style=\"color: #808000; text-decoration-color: #808000\">has_ace</span><span style=\"color: #000000; text-decoration-color: #000000\">=</span><span style=\"color: #ff0000; text-decoration-color: #ff0000; font-style: italic\">False</span><span style=\"color: #000000; text-decoration-color: #000000\">, </span><span style=\"color: #808000; text-decoration-color: #808000\">dealer_total</span><span style=\"color: #000000; text-decoration-color: #000000\">=</span><span style=\"color: #008080; text-decoration-color: #008080; font-weight: bold\">5</span><span style=\"color: #000000; text-decoration-color: #000000; font-weight: bold\">)</span><span style=\"color: #000000; text-decoration-color: #000000\">, &lt;Action.HIT: </span><span style=\"color: #008080; text-decoration-color: #008080; font-weight: bold\">0</span><span style=\"color: #000000; text-decoration-color: #000000\">&gt;, </span><span style=\"color: #008080; text-decoration-color: #008080; font-weight: bold\">-0.81</span><span style=\"color: #000000; text-decoration-color: #000000; font-weight: bold\">)</span><span style=\"color: #000000; text-decoration-color: #000000\">,</span>\n",
       "<span style=\"color: #000000; text-decoration-color: #000000\">        </span><span style=\"color: #000000; text-decoration-color: #000000; font-weight: bold\">(</span><span style=\"color: #800080; text-decoration-color: #800080; font-weight: bold\">State</span><span style=\"color: #000000; text-decoration-color: #000000; font-weight: bold\">(</span><span style=\"color: #808000; text-decoration-color: #808000\">total</span><span style=\"color: #000000; text-decoration-color: #000000\">=</span><span style=\"color: #008080; text-decoration-color: #008080; font-weight: bold\">15</span><span style=\"color: #000000; text-decoration-color: #000000\">, </span><span style=\"color: #808000; text-decoration-color: #808000\">has_ace</span><span style=\"color: #000000; text-decoration-color: #000000\">=</span><span style=\"color: #00ff00; text-decoration-color: #00ff00; font-style: italic\">True</span><span style=\"color: #000000; text-decoration-color: #000000\">, </span><span style=\"color: #808000; text-decoration-color: #808000\">dealer_total</span><span style=\"color: #000000; text-decoration-color: #000000\">=</span><span style=\"color: #008080; text-decoration-color: #008080; font-weight: bold\">5</span><span style=\"color: #000000; text-decoration-color: #000000; font-weight: bold\">)</span><span style=\"color: #000000; text-decoration-color: #000000\">, &lt;Action.HIT: </span><span style=\"color: #008080; text-decoration-color: #008080; font-weight: bold\">0</span><span style=\"color: #000000; text-decoration-color: #000000\">&gt;, </span><span style=\"color: #008080; text-decoration-color: #008080; font-weight: bold\">-0.9</span><span style=\"color: #000000; text-decoration-color: #000000; font-weight: bold\">)</span><span style=\"color: #000000; text-decoration-color: #000000\">,</span>\n",
       "<span style=\"color: #000000; text-decoration-color: #000000\">        </span><span style=\"color: #000000; text-decoration-color: #000000; font-weight: bold\">(</span><span style=\"color: #800080; text-decoration-color: #800080; font-weight: bold\">State</span><span style=\"color: #000000; text-decoration-color: #000000; font-weight: bold\">(</span><span style=\"color: #808000; text-decoration-color: #808000\">total</span><span style=\"color: #000000; text-decoration-color: #000000\">=</span><span style=\"color: #008080; text-decoration-color: #008080; font-weight: bold\">15</span><span style=\"color: #000000; text-decoration-color: #000000\">, </span><span style=\"color: #808000; text-decoration-color: #808000\">has_ace</span><span style=\"color: #000000; text-decoration-color: #000000\">=</span><span style=\"color: #ff0000; text-decoration-color: #ff0000; font-style: italic\">False</span><span style=\"color: #000000; text-decoration-color: #000000\">, </span><span style=\"color: #808000; text-decoration-color: #808000\">dealer_total</span><span style=\"color: #000000; text-decoration-color: #000000\">=</span><span style=\"color: #008080; text-decoration-color: #008080; font-weight: bold\">5</span><span style=\"color: #000000; text-decoration-color: #000000; font-weight: bold\">)</span><span style=\"color: #000000; text-decoration-color: #000000\">, &lt;Action.HOLD: </span><span style=\"color: #008080; text-decoration-color: #008080; font-weight: bold\">1</span><span style=\"color: #000000; text-decoration-color: #000000\">&gt;, </span><span style=\"color: #008080; text-decoration-color: #008080; font-weight: bold\">-1</span><span style=\"color: #000000; text-decoration-color: #000000; font-weight: bold\">)</span><span style=\"color: #000000; text-decoration-color: #000000\">,</span>\n",
       "<span style=\"color: #000000; text-decoration-color: #000000\">        </span><span style=\"color: #000000; text-decoration-color: #000000; font-weight: bold\">(</span><span style=\"color: #800080; text-decoration-color: #800080; font-weight: bold\">State</span><span style=\"color: #000000; text-decoration-color: #000000; font-weight: bold\">(</span><span style=\"color: #808000; text-decoration-color: #808000\">total</span><span style=\"color: #000000; text-decoration-color: #000000\">=</span><span style=\"color: #008080; text-decoration-color: #008080; font-weight: bold\">11</span><span style=\"color: #000000; text-decoration-color: #000000\">, </span><span style=\"color: #808000; text-decoration-color: #808000\">has_ace</span><span style=\"color: #000000; text-decoration-color: #000000\">=</span><span style=\"color: #00ff00; text-decoration-color: #00ff00; font-style: italic\">True</span><span style=\"color: #000000; text-decoration-color: #000000\">, </span><span style=\"color: #808000; text-decoration-color: #808000\">dealer_total</span><span style=\"color: #000000; text-decoration-color: #000000\">=</span><span style=\"color: #008080; text-decoration-color: #008080; font-weight: bold\">6</span><span style=\"color: #000000; text-decoration-color: #000000; font-weight: bold\">)</span><span style=\"color: #000000; text-decoration-color: #000000\">, &lt;Action.HOLD: </span><span style=\"color: #008080; text-decoration-color: #008080; font-weight: bold\">1</span><span style=\"color: #000000; text-decoration-color: #000000\">&gt;, </span><span style=\"color: #008080; text-decoration-color: #008080; font-weight: bold\">1</span><span style=\"color: #000000; text-decoration-color: #000000; font-weight: bold\">)</span><span style=\"color: #000000; text-decoration-color: #000000\">,</span>\n",
       "<span style=\"color: #000000; text-decoration-color: #000000\">        </span><span style=\"color: #000000; text-decoration-color: #000000; font-weight: bold\">(</span><span style=\"color: #800080; text-decoration-color: #800080; font-weight: bold\">State</span><span style=\"color: #000000; text-decoration-color: #000000; font-weight: bold\">(</span><span style=\"color: #808000; text-decoration-color: #808000\">total</span><span style=\"color: #000000; text-decoration-color: #000000\">=</span><span style=\"color: #008080; text-decoration-color: #008080; font-weight: bold\">4</span><span style=\"color: #000000; text-decoration-color: #000000\">, </span><span style=\"color: #808000; text-decoration-color: #808000\">has_ace</span><span style=\"color: #000000; text-decoration-color: #000000\">=</span><span style=\"color: #ff0000; text-decoration-color: #ff0000; font-style: italic\">False</span><span style=\"color: #000000; text-decoration-color: #000000\">, </span><span style=\"color: #808000; text-decoration-color: #808000\">dealer_total</span><span style=\"color: #000000; text-decoration-color: #000000\">=</span><span style=\"color: #008080; text-decoration-color: #008080; font-weight: bold\">10</span><span style=\"color: #000000; text-decoration-color: #000000; font-weight: bold\">)</span><span style=\"color: #000000; text-decoration-color: #000000\">, &lt;Action.HOLD: </span><span style=\"color: #008080; text-decoration-color: #008080; font-weight: bold\">1</span><span style=\"color: #000000; text-decoration-color: #000000\">&gt;, </span><span style=\"color: #008080; text-decoration-color: #008080; font-weight: bold\">-1</span><span style=\"color: #000000; text-decoration-color: #000000; font-weight: bold\">)</span><span style=\"color: #000000; text-decoration-color: #000000\">,</span>\n",
       "<span style=\"color: #000000; text-decoration-color: #000000\">        </span><span style=\"color: #000000; text-decoration-color: #000000; font-weight: bold\">(</span><span style=\"color: #800080; text-decoration-color: #800080; font-weight: bold\">State</span><span style=\"color: #000000; text-decoration-color: #000000; font-weight: bold\">(</span><span style=\"color: #808000; text-decoration-color: #808000\">total</span><span style=\"color: #000000; text-decoration-color: #000000\">=</span><span style=\"color: #008080; text-decoration-color: #008080; font-weight: bold\">5</span><span style=\"color: #000000; text-decoration-color: #000000\">, </span><span style=\"color: #808000; text-decoration-color: #808000\">has_ace</span><span style=\"color: #000000; text-decoration-color: #000000\">=</span><span style=\"color: #ff0000; text-decoration-color: #ff0000; font-style: italic\">False</span><span style=\"color: #000000; text-decoration-color: #000000\">, </span><span style=\"color: #808000; text-decoration-color: #808000\">dealer_total</span><span style=\"color: #000000; text-decoration-color: #000000\">=</span><span style=\"color: #008080; text-decoration-color: #008080; font-weight: bold\">8</span><span style=\"color: #000000; text-decoration-color: #000000; font-weight: bold\">)</span><span style=\"color: #000000; text-decoration-color: #000000\">, &lt;Action.HIT: </span><span style=\"color: #008080; text-decoration-color: #008080; font-weight: bold\">0</span><span style=\"color: #000000; text-decoration-color: #000000\">&gt;, </span><span style=\"color: #008080; text-decoration-color: #008080; font-weight: bold\">0.81</span><span style=\"color: #000000; text-decoration-color: #000000; font-weight: bold\">)</span><span style=\"color: #000000; text-decoration-color: #000000\">,</span>\n",
       "<span style=\"color: #000000; text-decoration-color: #000000\">        </span><span style=\"color: #000000; text-decoration-color: #000000; font-weight: bold\">(</span><span style=\"color: #800080; text-decoration-color: #800080; font-weight: bold\">State</span><span style=\"color: #000000; text-decoration-color: #000000; font-weight: bold\">(</span><span style=\"color: #808000; text-decoration-color: #808000\">total</span><span style=\"color: #000000; text-decoration-color: #000000\">=</span><span style=\"color: #008080; text-decoration-color: #008080; font-weight: bold\">9</span><span style=\"color: #000000; text-decoration-color: #000000\">, </span><span style=\"color: #808000; text-decoration-color: #808000\">has_ace</span><span style=\"color: #000000; text-decoration-color: #000000\">=</span><span style=\"color: #ff0000; text-decoration-color: #ff0000; font-style: italic\">False</span><span style=\"color: #000000; text-decoration-color: #000000\">, </span><span style=\"color: #808000; text-decoration-color: #808000\">dealer_total</span><span style=\"color: #000000; text-decoration-color: #000000\">=</span><span style=\"color: #008080; text-decoration-color: #008080; font-weight: bold\">8</span><span style=\"color: #000000; text-decoration-color: #000000; font-weight: bold\">)</span><span style=\"color: #000000; text-decoration-color: #000000\">, &lt;Action.HIT: </span><span style=\"color: #008080; text-decoration-color: #008080; font-weight: bold\">0</span><span style=\"color: #000000; text-decoration-color: #000000\">&gt;, </span><span style=\"color: #008080; text-decoration-color: #008080; font-weight: bold\">0.9</span><span style=\"color: #000000; text-decoration-color: #000000; font-weight: bold\">)</span><span style=\"color: #000000; text-decoration-color: #000000\">,</span>\n",
       "<span style=\"color: #000000; text-decoration-color: #000000\">        </span><span style=\"color: #000000; text-decoration-color: #000000; font-weight: bold\">(</span><span style=\"color: #800080; text-decoration-color: #800080; font-weight: bold\">State</span><span style=\"color: #000000; text-decoration-color: #000000; font-weight: bold\">(</span><span style=\"color: #808000; text-decoration-color: #808000\">total</span><span style=\"color: #000000; text-decoration-color: #000000\">=</span><span style=\"color: #008080; text-decoration-color: #008080; font-weight: bold\">19</span><span style=\"color: #000000; text-decoration-color: #000000\">, </span><span style=\"color: #808000; text-decoration-color: #808000\">has_ace</span><span style=\"color: #000000; text-decoration-color: #000000\">=</span><span style=\"color: #ff0000; text-decoration-color: #ff0000; font-style: italic\">False</span><span style=\"color: #000000; text-decoration-color: #000000\">, </span><span style=\"color: #808000; text-decoration-color: #808000\">dealer_total</span><span style=\"color: #000000; text-decoration-color: #000000\">=</span><span style=\"color: #008080; text-decoration-color: #008080; font-weight: bold\">8</span><span style=\"color: #000000; text-decoration-color: #000000; font-weight: bold\">)</span><span style=\"color: #000000; text-decoration-color: #000000\">, &lt;Action.HOLD: </span><span style=\"color: #008080; text-decoration-color: #008080; font-weight: bold\">1</span><span style=\"font-weight: bold\">&gt;</span>, <span style=\"color: #008080; text-decoration-color: #008080; font-weight: bold\">1</span><span style=\"font-weight: bold\">)</span>\n",
       "    <span style=\"font-weight: bold\">]</span>\n",
       "<span style=\"font-weight: bold\">)</span>\n",
       "</pre>\n"
      ],
      "text/plain": [
       "\u001b[1m(\u001b[0m\n",
       "    total \u001b[33mscore\u001b[0m=\u001b[1;36m-1\u001b[0m/\u001b[1;36m5\u001b[0m games \u001b[1m(\u001b[0m\u001b[1;36m-0.2000\u001b[0m per game\u001b[1m)\u001b[0m :: W \u001b[1;36m40.00\u001b[0m% | D \u001b[1;36m0.00\u001b[0m% | L \u001b[1;36m60.00\u001b[0m%,\n",
       "    \u001b[1m[\u001b[0m\n",
       "        \u001b[1m(\u001b[0m\u001b[1;35mState\u001b[0m\u001b[1m(\u001b[0m\u001b[33mtotal\u001b[0m=\u001b[1;36m10\u001b[0m, \u001b[33mhas_ace\u001b[0m=\u001b[3;91mFalse\u001b[0m, \u001b[33mdealer_total\u001b[0m=\u001b[1;36m5\u001b[0m\u001b[1m)\u001b[0m, \u001b[1m<\u001b[0m\u001b[1;95mAction.HOLD:\u001b[0m\u001b[39m \u001b[0m\u001b[1;36m1\u001b[0m\u001b[39m>, \u001b[0m\u001b[1;36m-1\u001b[0m\u001b[1;39m)\u001b[0m\u001b[39m,\u001b[0m\n",
       "\u001b[39m        \u001b[0m\u001b[1;39m(\u001b[0m\u001b[1;35mState\u001b[0m\u001b[1;39m(\u001b[0m\u001b[33mtotal\u001b[0m\u001b[39m=\u001b[0m\u001b[1;36m4\u001b[0m\u001b[39m, \u001b[0m\u001b[33mhas_ace\u001b[0m\u001b[39m=\u001b[0m\u001b[3;91mFalse\u001b[0m\u001b[39m, \u001b[0m\u001b[33mdealer_total\u001b[0m\u001b[39m=\u001b[0m\u001b[1;36m5\u001b[0m\u001b[1;39m)\u001b[0m\u001b[39m, <Action.HIT: \u001b[0m\u001b[1;36m0\u001b[0m\u001b[39m>, \u001b[0m\u001b[1;36m-0.81\u001b[0m\u001b[1;39m)\u001b[0m\u001b[39m,\u001b[0m\n",
       "\u001b[39m        \u001b[0m\u001b[1;39m(\u001b[0m\u001b[1;35mState\u001b[0m\u001b[1;39m(\u001b[0m\u001b[33mtotal\u001b[0m\u001b[39m=\u001b[0m\u001b[1;36m15\u001b[0m\u001b[39m, \u001b[0m\u001b[33mhas_ace\u001b[0m\u001b[39m=\u001b[0m\u001b[3;92mTrue\u001b[0m\u001b[39m, \u001b[0m\u001b[33mdealer_total\u001b[0m\u001b[39m=\u001b[0m\u001b[1;36m5\u001b[0m\u001b[1;39m)\u001b[0m\u001b[39m, <Action.HIT: \u001b[0m\u001b[1;36m0\u001b[0m\u001b[39m>, \u001b[0m\u001b[1;36m-0.9\u001b[0m\u001b[1;39m)\u001b[0m\u001b[39m,\u001b[0m\n",
       "\u001b[39m        \u001b[0m\u001b[1;39m(\u001b[0m\u001b[1;35mState\u001b[0m\u001b[1;39m(\u001b[0m\u001b[33mtotal\u001b[0m\u001b[39m=\u001b[0m\u001b[1;36m15\u001b[0m\u001b[39m, \u001b[0m\u001b[33mhas_ace\u001b[0m\u001b[39m=\u001b[0m\u001b[3;91mFalse\u001b[0m\u001b[39m, \u001b[0m\u001b[33mdealer_total\u001b[0m\u001b[39m=\u001b[0m\u001b[1;36m5\u001b[0m\u001b[1;39m)\u001b[0m\u001b[39m, <Action.HOLD: \u001b[0m\u001b[1;36m1\u001b[0m\u001b[39m>, \u001b[0m\u001b[1;36m-1\u001b[0m\u001b[1;39m)\u001b[0m\u001b[39m,\u001b[0m\n",
       "\u001b[39m        \u001b[0m\u001b[1;39m(\u001b[0m\u001b[1;35mState\u001b[0m\u001b[1;39m(\u001b[0m\u001b[33mtotal\u001b[0m\u001b[39m=\u001b[0m\u001b[1;36m11\u001b[0m\u001b[39m, \u001b[0m\u001b[33mhas_ace\u001b[0m\u001b[39m=\u001b[0m\u001b[3;92mTrue\u001b[0m\u001b[39m, \u001b[0m\u001b[33mdealer_total\u001b[0m\u001b[39m=\u001b[0m\u001b[1;36m6\u001b[0m\u001b[1;39m)\u001b[0m\u001b[39m, <Action.HOLD: \u001b[0m\u001b[1;36m1\u001b[0m\u001b[39m>, \u001b[0m\u001b[1;36m1\u001b[0m\u001b[1;39m)\u001b[0m\u001b[39m,\u001b[0m\n",
       "\u001b[39m        \u001b[0m\u001b[1;39m(\u001b[0m\u001b[1;35mState\u001b[0m\u001b[1;39m(\u001b[0m\u001b[33mtotal\u001b[0m\u001b[39m=\u001b[0m\u001b[1;36m4\u001b[0m\u001b[39m, \u001b[0m\u001b[33mhas_ace\u001b[0m\u001b[39m=\u001b[0m\u001b[3;91mFalse\u001b[0m\u001b[39m, \u001b[0m\u001b[33mdealer_total\u001b[0m\u001b[39m=\u001b[0m\u001b[1;36m10\u001b[0m\u001b[1;39m)\u001b[0m\u001b[39m, <Action.HOLD: \u001b[0m\u001b[1;36m1\u001b[0m\u001b[39m>, \u001b[0m\u001b[1;36m-1\u001b[0m\u001b[1;39m)\u001b[0m\u001b[39m,\u001b[0m\n",
       "\u001b[39m        \u001b[0m\u001b[1;39m(\u001b[0m\u001b[1;35mState\u001b[0m\u001b[1;39m(\u001b[0m\u001b[33mtotal\u001b[0m\u001b[39m=\u001b[0m\u001b[1;36m5\u001b[0m\u001b[39m, \u001b[0m\u001b[33mhas_ace\u001b[0m\u001b[39m=\u001b[0m\u001b[3;91mFalse\u001b[0m\u001b[39m, \u001b[0m\u001b[33mdealer_total\u001b[0m\u001b[39m=\u001b[0m\u001b[1;36m8\u001b[0m\u001b[1;39m)\u001b[0m\u001b[39m, <Action.HIT: \u001b[0m\u001b[1;36m0\u001b[0m\u001b[39m>, \u001b[0m\u001b[1;36m0.81\u001b[0m\u001b[1;39m)\u001b[0m\u001b[39m,\u001b[0m\n",
       "\u001b[39m        \u001b[0m\u001b[1;39m(\u001b[0m\u001b[1;35mState\u001b[0m\u001b[1;39m(\u001b[0m\u001b[33mtotal\u001b[0m\u001b[39m=\u001b[0m\u001b[1;36m9\u001b[0m\u001b[39m, \u001b[0m\u001b[33mhas_ace\u001b[0m\u001b[39m=\u001b[0m\u001b[3;91mFalse\u001b[0m\u001b[39m, \u001b[0m\u001b[33mdealer_total\u001b[0m\u001b[39m=\u001b[0m\u001b[1;36m8\u001b[0m\u001b[1;39m)\u001b[0m\u001b[39m, <Action.HIT: \u001b[0m\u001b[1;36m0\u001b[0m\u001b[39m>, \u001b[0m\u001b[1;36m0.9\u001b[0m\u001b[1;39m)\u001b[0m\u001b[39m,\u001b[0m\n",
       "\u001b[39m        \u001b[0m\u001b[1;39m(\u001b[0m\u001b[1;35mState\u001b[0m\u001b[1;39m(\u001b[0m\u001b[33mtotal\u001b[0m\u001b[39m=\u001b[0m\u001b[1;36m19\u001b[0m\u001b[39m, \u001b[0m\u001b[33mhas_ace\u001b[0m\u001b[39m=\u001b[0m\u001b[3;91mFalse\u001b[0m\u001b[39m, \u001b[0m\u001b[33mdealer_total\u001b[0m\u001b[39m=\u001b[0m\u001b[1;36m8\u001b[0m\u001b[1;39m)\u001b[0m\u001b[39m, <Action.HOLD: \u001b[0m\u001b[1;36m1\u001b[0m\u001b[1m>\u001b[0m, \u001b[1;36m1\u001b[0m\u001b[1m)\u001b[0m\n",
       "    \u001b[1m]\u001b[0m\n",
       "\u001b[1m)\u001b[0m\n"
      ]
     },
     "metadata": {},
     "output_type": "display_data"
    }
   ],
   "source": [
    "res = apply_policy(random_policy, deck, 5, gamma=0.9)\n",
    "print(res)"
   ]
  },
  {
   "cell_type": "markdown",
   "id": "7fdb48d4-cd5a-46ee-855b-892110bb330a",
   "metadata": {},
   "source": [
    "## Comparative Performance of the Random and Dealer's Policy (when used by the Player)"
   ]
  },
  {
   "cell_type": "markdown",
   "id": "da7c893c-3a94-471e-9d68-57129d4db9c5",
   "metadata": {},
   "source": [
    "Now, we are ready to perform the actual testing. We will test both previously defined policies: the purely explorative random policy and (probably near optimal) dealer's policy. The measurement will be performed by both previously defined functions."
   ]
  },
  {
   "cell_type": "code",
   "execution_count": 41,
   "id": "1cdb83f5-617e-41f7-96d2-9ca776d776cb",
   "metadata": {},
   "outputs": [
    {
     "data": {
      "text/html": [
       "<pre style=\"white-space:pre;overflow-x:auto;line-height:normal;font-family:Menlo,'DejaVu Sans Mono',consolas,'Courier New',monospace\">total <span style=\"color: #808000; text-decoration-color: #808000\">score</span>=<span style=\"color: #008080; text-decoration-color: #008080; font-weight: bold\">-4175</span>/<span style=\"color: #008080; text-decoration-color: #008080; font-weight: bold\">10000</span> games <span style=\"font-weight: bold\">(</span><span style=\"color: #008080; text-decoration-color: #008080; font-weight: bold\">-0.4175</span> per game<span style=\"font-weight: bold\">)</span> :: W <span style=\"color: #008080; text-decoration-color: #008080; font-weight: bold\">28.07</span>% | D <span style=\"color: #008080; text-decoration-color: #008080; font-weight: bold\">2.11</span>% | L <span style=\"color: #008080; text-decoration-color: #008080; font-weight: bold\">69.82</span>%\n",
       "</pre>\n"
      ],
      "text/plain": [
       "total \u001b[33mscore\u001b[0m=\u001b[1;36m-4175\u001b[0m/\u001b[1;36m10000\u001b[0m games \u001b[1m(\u001b[0m\u001b[1;36m-0.4175\u001b[0m per game\u001b[1m)\u001b[0m :: W \u001b[1;36m28.07\u001b[0m% | D \u001b[1;36m2.11\u001b[0m% | L \u001b[1;36m69.82\u001b[0m%\n"
      ]
     },
     "metadata": {},
     "output_type": "display_data"
    }
   ],
   "source": [
    "res, _ = apply_policy(random_policy, deck, 10000)\n",
    "print(res)"
   ]
  },
  {
   "cell_type": "code",
   "execution_count": 42,
   "id": "4255bf55-26c2-4979-8ecb-e08e121514ea",
   "metadata": {},
   "outputs": [
    {
     "data": {
      "text/html": [
       "<pre style=\"white-space:pre;overflow-x:auto;line-height:normal;font-family:Menlo,'DejaVu Sans Mono',consolas,'Courier New',monospace\">total <span style=\"color: #808000; text-decoration-color: #808000\">score</span>=<span style=\"color: #008080; text-decoration-color: #008080; font-weight: bold\">-732</span>/<span style=\"color: #008080; text-decoration-color: #008080; font-weight: bold\">10000</span> games <span style=\"font-weight: bold\">(</span><span style=\"color: #008080; text-decoration-color: #008080; font-weight: bold\">-0.0732</span> per game<span style=\"font-weight: bold\">)</span> :: W <span style=\"color: #008080; text-decoration-color: #008080; font-weight: bold\">41.31</span>% | D <span style=\"color: #008080; text-decoration-color: #008080; font-weight: bold\">10.06</span>% | L <span style=\"color: #008080; text-decoration-color: #008080; font-weight: bold\">48.63</span>%\n",
       "</pre>\n"
      ],
      "text/plain": [
       "total \u001b[33mscore\u001b[0m=\u001b[1;36m-732\u001b[0m/\u001b[1;36m10000\u001b[0m games \u001b[1m(\u001b[0m\u001b[1;36m-0.0732\u001b[0m per game\u001b[1m)\u001b[0m :: W \u001b[1;36m41.31\u001b[0m% | D \u001b[1;36m10.06\u001b[0m% | L \u001b[1;36m48.63\u001b[0m%\n"
      ]
     },
     "metadata": {},
     "output_type": "display_data"
    }
   ],
   "source": [
    "res, _ = apply_policy(dealer_policy, deck, 10000)\n",
    "print(res)"
   ]
  },
  {
   "cell_type": "markdown",
   "id": "e58a5402-7426-4d6f-b12c-c708d749f229",
   "metadata": {},
   "source": [
    "We see that the player using the same strategy as the dealer losses about 0.08 \"points\" per game. It losses only slightly below 50% of the time, byt manages to win in only slightly above 40% of the cases. The difference in gains between the actual dealer and the player acting as a dealer is due to the inherent assymetry of the game, and the fact that the dealer plays second, only after the player ended its turn, and only if the player is not busted!\n",
    "\n",
    "The similar behavior may be observed when testing wiht completely random init state"
   ]
  },
  {
   "cell_type": "code",
   "execution_count": 43,
   "id": "d9c1a6c8-c3a6-491f-8406-db37862ffcd5",
   "metadata": {},
   "outputs": [
    {
     "data": {
      "text/html": [
       "<pre style=\"white-space:pre;overflow-x:auto;line-height:normal;font-family:Menlo,'DejaVu Sans Mono',consolas,'Courier New',monospace\">total <span style=\"color: #808000; text-decoration-color: #808000\">score</span>=<span style=\"color: #008080; text-decoration-color: #008080; font-weight: bold\">-4186</span>/<span style=\"color: #008080; text-decoration-color: #008080; font-weight: bold\">10000</span> games <span style=\"font-weight: bold\">(</span><span style=\"color: #008080; text-decoration-color: #008080; font-weight: bold\">-0.4186</span> per game<span style=\"font-weight: bold\">)</span> :: W <span style=\"color: #008080; text-decoration-color: #008080; font-weight: bold\">28.03</span>% | D <span style=\"color: #008080; text-decoration-color: #008080; font-weight: bold\">2.08</span>% | L <span style=\"color: #008080; text-decoration-color: #008080; font-weight: bold\">69.89</span>%\n",
       "</pre>\n"
      ],
      "text/plain": [
       "total \u001b[33mscore\u001b[0m=\u001b[1;36m-4186\u001b[0m/\u001b[1;36m10000\u001b[0m games \u001b[1m(\u001b[0m\u001b[1;36m-0.4186\u001b[0m per game\u001b[1m)\u001b[0m :: W \u001b[1;36m28.03\u001b[0m% | D \u001b[1;36m2.08\u001b[0m% | L \u001b[1;36m69.89\u001b[0m%\n"
      ]
     },
     "metadata": {},
     "output_type": "display_data"
    }
   ],
   "source": [
    "res, _ = apply_policy(random_policy, deck, 10000, random_init_state=True)\n",
    "print(res)"
   ]
  },
  {
   "cell_type": "code",
   "execution_count": 44,
   "id": "c469fcff-6be7-40cb-a13a-38b91db930ed",
   "metadata": {},
   "outputs": [
    {
     "data": {
      "text/html": [
       "<pre style=\"white-space:pre;overflow-x:auto;line-height:normal;font-family:Menlo,'DejaVu Sans Mono',consolas,'Courier New',monospace\">total <span style=\"color: #808000; text-decoration-color: #808000\">score</span>=<span style=\"color: #008080; text-decoration-color: #008080; font-weight: bold\">-867</span>/<span style=\"color: #008080; text-decoration-color: #008080; font-weight: bold\">10000</span> games <span style=\"font-weight: bold\">(</span><span style=\"color: #008080; text-decoration-color: #008080; font-weight: bold\">-0.0867</span> per game<span style=\"font-weight: bold\">)</span> :: W <span style=\"color: #008080; text-decoration-color: #008080; font-weight: bold\">40.39</span>% | D <span style=\"color: #008080; text-decoration-color: #008080; font-weight: bold\">10.55</span>% | L <span style=\"color: #008080; text-decoration-color: #008080; font-weight: bold\">49.06</span>%\n",
       "</pre>\n"
      ],
      "text/plain": [
       "total \u001b[33mscore\u001b[0m=\u001b[1;36m-867\u001b[0m/\u001b[1;36m10000\u001b[0m games \u001b[1m(\u001b[0m\u001b[1;36m-0.0867\u001b[0m per game\u001b[1m)\u001b[0m :: W \u001b[1;36m40.39\u001b[0m% | D \u001b[1;36m10.55\u001b[0m% | L \u001b[1;36m49.06\u001b[0m%\n"
      ]
     },
     "metadata": {},
     "output_type": "display_data"
    }
   ],
   "source": [
    "res, _ = apply_policy(dealer_policy, deck, 10000, random_init_state=True)\n",
    "print(res)"
   ]
  },
  {
   "cell_type": "markdown",
   "id": "91525730-6131-4304-a130-8788ec881971",
   "metadata": {},
   "source": [
    "... and also when using exhaustive testing"
   ]
  },
  {
   "cell_type": "code",
   "execution_count": 45,
   "id": "4ad74c37-a597-4d30-862f-2aac631745d0",
   "metadata": {},
   "outputs": [
    {
     "data": {
      "text/html": [
       "<pre style=\"white-space:pre;overflow-x:auto;line-height:normal;font-family:Menlo,'DejaVu Sans Mono',consolas,'Courier New',monospace\">total <span style=\"color: #808000; text-decoration-color: #808000\">score</span>=<span style=\"color: #008080; text-decoration-color: #008080; font-weight: bold\">-921</span>/<span style=\"color: #008080; text-decoration-color: #008080; font-weight: bold\">3100</span> games <span style=\"font-weight: bold\">(</span><span style=\"color: #008080; text-decoration-color: #008080; font-weight: bold\">-0.2971</span> per game<span style=\"font-weight: bold\">)</span> :: W <span style=\"color: #008080; text-decoration-color: #008080; font-weight: bold\">33.00</span>% | D <span style=\"color: #008080; text-decoration-color: #008080; font-weight: bold\">4.29</span>% | L <span style=\"color: #008080; text-decoration-color: #008080; font-weight: bold\">62.71</span>%\n",
       "</pre>\n"
      ],
      "text/plain": [
       "total \u001b[33mscore\u001b[0m=\u001b[1;36m-921\u001b[0m/\u001b[1;36m3100\u001b[0m games \u001b[1m(\u001b[0m\u001b[1;36m-0.2971\u001b[0m per game\u001b[1m)\u001b[0m :: W \u001b[1;36m33.00\u001b[0m% | D \u001b[1;36m4.29\u001b[0m% | L \u001b[1;36m62.71\u001b[0m%\n"
      ]
     },
     "metadata": {},
     "output_type": "display_data"
    }
   ],
   "source": [
    "res, _ = apply_policy_exhaustive(random_policy, deck, gamma=0.9)\n",
    "print(res)"
   ]
  },
  {
   "cell_type": "code",
   "execution_count": 46,
   "id": "80cf390c-e263-4ad6-8652-67dc86c02b5a",
   "metadata": {},
   "outputs": [
    {
     "data": {
      "text/html": [
       "<pre style=\"white-space:pre;overflow-x:auto;line-height:normal;font-family:Menlo,'DejaVu Sans Mono',consolas,'Courier New',monospace\">total <span style=\"color: #808000; text-decoration-color: #808000\">score</span>=<span style=\"color: #008080; text-decoration-color: #008080; font-weight: bold\">-567</span>/<span style=\"color: #008080; text-decoration-color: #008080; font-weight: bold\">3100</span> games <span style=\"font-weight: bold\">(</span><span style=\"color: #008080; text-decoration-color: #008080; font-weight: bold\">-0.1829</span> per game<span style=\"font-weight: bold\">)</span> :: W <span style=\"color: #008080; text-decoration-color: #008080; font-weight: bold\">37.58</span>% | D <span style=\"color: #008080; text-decoration-color: #008080; font-weight: bold\">6.55</span>% | L <span style=\"color: #008080; text-decoration-color: #008080; font-weight: bold\">55.87</span>%\n",
       "</pre>\n"
      ],
      "text/plain": [
       "total \u001b[33mscore\u001b[0m=\u001b[1;36m-567\u001b[0m/\u001b[1;36m3100\u001b[0m games \u001b[1m(\u001b[0m\u001b[1;36m-0.1829\u001b[0m per game\u001b[1m)\u001b[0m :: W \u001b[1;36m37.58\u001b[0m% | D \u001b[1;36m6.55\u001b[0m% | L \u001b[1;36m55.87\u001b[0m%\n"
      ]
     },
     "metadata": {},
     "output_type": "display_data"
    }
   ],
   "source": [
    "res, _ = apply_policy_exhaustive(dealer_policy, deck, gamma=0.9)\n",
    "print(res)"
   ]
  },
  {
   "cell_type": "markdown",
   "id": "7caf8470-c9df-4836-9f76-4d21040ba0ab",
   "metadata": {},
   "source": [
    "We see that (qualitatively) the same performance is observed when using the exhaustive testing procedure. The later results should be considered more representative, since they are taking into account all possible state-action pairs."
   ]
  },
  {
   "cell_type": "markdown",
   "id": "eec722ea-405b-4314-b134-803eb29fcb66",
   "metadata": {},
   "source": [
    "## Learning a Decision Policy"
   ]
  },
  {
   "cell_type": "markdown",
   "id": "6faec29c-429e-47f5-a899-1476827ac370",
   "metadata": {},
   "source": [
    "In order to learn a decision policy, we will first implement a policy which is greedy with respect to a given Q-function. In this particular case, the Q-function will be implemented as a dictionary which returns a pair of value: the Q-value corresponding to HIT action, and the Q-value corresponding to HIT action. \n",
    "\n",
    "If the Q-dictionary does not contain an entry for a given state, a random action will be returned. Otherwise, the action with the higher Q-value will be used. If some Q-values returned for the given state are missing (equal to `None`) random policy will be used. If the length of the retyrned array is different than expected, an error will be raised."
   ]
  },
  {
   "cell_type": "code",
   "execution_count": 47,
   "id": "365c37cd-1acc-4a63-9ffc-b743ac2e442e",
   "metadata": {},
   "outputs": [],
   "source": [
    "QDict = dict[State, tuple[float, float]]\n",
    "\n",
    "def create_greedy_policy(q_dict: QDict):\n",
    "    \"\"\"Create a policy function from the given Q-dictionary.\"\"\"\n",
    "    no_actions = len(list(Action))\n",
    "\n",
    "    def policy(s: State):\n",
    "        q_values = q_dict.get(s, None)\n",
    "        if q_values is not None:\n",
    "            assert len(q_values) == no_actions, f\"Invalid Q-dict for state {s}.\"\n",
    "            if any([v is None for v in q_values]):\n",
    "                return random_policy(s)\n",
    "            else: \n",
    "                ndx = np.argmax(q_values)\n",
    "                return Action(ndx)\n",
    "        else:\n",
    "            return random_policy(s)\n",
    "    \n",
    "    return policy"
   ]
  },
  {
   "cell_type": "markdown",
   "id": "d5bfbd11-7311-4b65-b35d-887fa07b4275",
   "metadata": {},
   "source": [
    "Now we need a function that will evaluate Q-dictionary based on the collected experience."
   ]
  },
  {
   "cell_type": "code",
   "execution_count": 48,
   "id": "0bb2bfcc-1c68-4046-b86d-252a872af062",
   "metadata": {},
   "outputs": [],
   "source": [
    "def evaluate_Q(experience):\n",
    "    gains_dict = dict()\n",
    "    for s, a, g in experience:\n",
    "        action_gains = gains_dict.get(s, ([], []))\n",
    "        action_gains[a.value].append(g)\n",
    "        gains_dict[s] = action_gains\n",
    "\n",
    "    q_dict = dict()\n",
    "    for s, g_values in gains_dict.items():\n",
    "        q_values = []\n",
    "        for ga in g_values:\n",
    "            if not ga:\n",
    "                q_values.append(None)\n",
    "            else:\n",
    "                q_values.append(np.mean(ga))\n",
    "        q_dict[s] = q_values\n",
    "    return q_dict"
   ]
  },
  {
   "cell_type": "code",
   "execution_count": 49,
   "id": "a53a5d71-474c-4114-be2b-0a408f0cf080",
   "metadata": {},
   "outputs": [
    {
     "data": {
      "text/html": [
       "<pre style=\"white-space:pre;overflow-x:auto;line-height:normal;font-family:Menlo,'DejaVu Sans Mono',consolas,'Courier New',monospace\">total <span style=\"color: #808000; text-decoration-color: #808000\">score</span>=<span style=\"color: #008080; text-decoration-color: #008080; font-weight: bold\">-41470</span>/<span style=\"color: #008080; text-decoration-color: #008080; font-weight: bold\">100000</span> games <span style=\"font-weight: bold\">(</span><span style=\"color: #008080; text-decoration-color: #008080; font-weight: bold\">-0.4147</span> per game<span style=\"font-weight: bold\">)</span> :: W <span style=\"color: #008080; text-decoration-color: #008080; font-weight: bold\">28.23</span>% | D <span style=\"color: #008080; text-decoration-color: #008080; font-weight: bold\">2.06</span>% | L <span style=\"color: #008080; text-decoration-color: #008080; font-weight: bold\">69.70</span>%\n",
       "</pre>\n"
      ],
      "text/plain": [
       "total \u001b[33mscore\u001b[0m=\u001b[1;36m-41470\u001b[0m/\u001b[1;36m100000\u001b[0m games \u001b[1m(\u001b[0m\u001b[1;36m-0.4147\u001b[0m per game\u001b[1m)\u001b[0m :: W \u001b[1;36m28.23\u001b[0m% | D \u001b[1;36m2.06\u001b[0m% | L \u001b[1;36m69.70\u001b[0m%\n"
      ]
     },
     "metadata": {},
     "output_type": "display_data"
    }
   ],
   "source": [
    "q_dict = dict()\n",
    "policy = create_greedy_policy(q_dict)\n",
    "res, exp = apply_policy(policy, deck, 100000, gamma=0.9, random_init_action=True)\n",
    "print(res)\n",
    "q_dict = evaluate_Q(exp)\n",
    "# print([s for s, q in q_dict.items() if q[0] is None or q[1] is None])"
   ]
  },
  {
   "cell_type": "code",
   "execution_count": 50,
   "id": "50f0896a-f759-4529-82e6-6d68bdf853a7",
   "metadata": {},
   "outputs": [
    {
     "data": {
      "text/html": [
       "<pre style=\"white-space:pre;overflow-x:auto;line-height:normal;font-family:Menlo,'DejaVu Sans Mono',consolas,'Courier New',monospace\">total <span style=\"color: #808000; text-decoration-color: #808000\">score</span>=<span style=\"color: #008080; text-decoration-color: #008080; font-weight: bold\">-27117</span>/<span style=\"color: #008080; text-decoration-color: #008080; font-weight: bold\">100000</span> games <span style=\"font-weight: bold\">(</span><span style=\"color: #008080; text-decoration-color: #008080; font-weight: bold\">-0.2712</span> per game<span style=\"font-weight: bold\">)</span> :: W <span style=\"color: #008080; text-decoration-color: #008080; font-weight: bold\">34.83</span>% | D <span style=\"color: #008080; text-decoration-color: #008080; font-weight: bold\">3.22</span>% | L <span style=\"color: #008080; text-decoration-color: #008080; font-weight: bold\">61.95</span>%\n",
       "</pre>\n"
      ],
      "text/plain": [
       "total \u001b[33mscore\u001b[0m=\u001b[1;36m-27117\u001b[0m/\u001b[1;36m100000\u001b[0m games \u001b[1m(\u001b[0m\u001b[1;36m-0.2712\u001b[0m per game\u001b[1m)\u001b[0m :: W \u001b[1;36m34.83\u001b[0m% | D \u001b[1;36m3.22\u001b[0m% | L \u001b[1;36m61.95\u001b[0m%\n"
      ]
     },
     "metadata": {},
     "output_type": "display_data"
    }
   ],
   "source": [
    "policy = create_greedy_policy(q_dict)\n",
    "res, exp = apply_policy(policy, deck, 100000, gamma=0.9, random_init_action=True)\n",
    "print(res)\n",
    "q_dict = evaluate_Q(exp)\n",
    "# print([s for s, q in q_dict.items() if q[0] is None or q[1] is None])"
   ]
  },
  {
   "cell_type": "code",
   "execution_count": 51,
   "id": "601572ff-bf93-4780-93a8-1bf6301cf1a0",
   "metadata": {},
   "outputs": [
    {
     "data": {
      "text/plain": [
       "0.6742671009771987"
      ]
     },
     "execution_count": 51,
     "metadata": {},
     "output_type": "execute_result"
    }
   ],
   "source": [
    "len([s for s, q in q_dict.items() if q[0] is None or q[1] is None])/len(q_dict)"
   ]
  },
  {
   "cell_type": "code",
   "execution_count": 52,
   "id": "959db408-871e-4d26-a99a-1ec8c9b31837",
   "metadata": {},
   "outputs": [
    {
     "data": {
      "text/html": [
       "<pre style=\"white-space:pre;overflow-x:auto;line-height:normal;font-family:Menlo,'DejaVu Sans Mono',consolas,'Courier New',monospace\">total <span style=\"color: #808000; text-decoration-color: #808000\">score</span>=<span style=\"color: #008080; text-decoration-color: #008080; font-weight: bold\">-41194</span>/<span style=\"color: #008080; text-decoration-color: #008080; font-weight: bold\">100000</span> games <span style=\"font-weight: bold\">(</span><span style=\"color: #008080; text-decoration-color: #008080; font-weight: bold\">-0.4119</span> per game<span style=\"font-weight: bold\">)</span> :: W <span style=\"color: #008080; text-decoration-color: #008080; font-weight: bold\">28.27</span>% | D <span style=\"color: #008080; text-decoration-color: #008080; font-weight: bold\">2.27</span>% | L <span style=\"color: #008080; text-decoration-color: #008080; font-weight: bold\">69.46</span>%\n",
       "</pre>\n"
      ],
      "text/plain": [
       "total \u001b[33mscore\u001b[0m=\u001b[1;36m-41194\u001b[0m/\u001b[1;36m100000\u001b[0m games \u001b[1m(\u001b[0m\u001b[1;36m-0.4119\u001b[0m per game\u001b[1m)\u001b[0m :: W \u001b[1;36m28.27\u001b[0m% | D \u001b[1;36m2.27\u001b[0m% | L \u001b[1;36m69.46\u001b[0m%\n"
      ]
     },
     "metadata": {},
     "output_type": "display_data"
    },
    {
     "data": {
      "text/plain": [
       "0.0"
      ]
     },
     "execution_count": 52,
     "metadata": {},
     "output_type": "execute_result"
    }
   ],
   "source": [
    "policy = create_greedy_policy(q_dict)\n",
    "res, exp = apply_policy(policy, deck, 100000, gamma=0.9, random_init_action=True, random_init_state=True)\n",
    "print(res)\n",
    "q_dict = evaluate_Q(exp)\n",
    "len([s for s, q in q_dict.items() if q[0] is None or q[1] is None])/len(q_dict)"
   ]
  },
  {
   "cell_type": "code",
   "execution_count": 53,
   "id": "28f06618-89dd-4ba3-ade8-7db546695ece",
   "metadata": {},
   "outputs": [
    {
     "name": "stderr",
     "output_type": "stream",
     "text": [
      "100%|████████████████████████████████████████████████████████████████████████████████| 40/40 [00:16<00:00,  2.47it/s]\n"
     ]
    }
   ],
   "source": [
    "q_dict = dict()\n",
    "results = []\n",
    "for k in trange(40):\n",
    "    policy = create_greedy_policy(q_dict)\n",
    "    res, exp = apply_policy(policy, deck, 10000, gamma=0.9, random_init_action=True, random_init_state=True)\n",
    "    results.append(res)\n",
    "    q_dict = evaluate_Q(exp)"
   ]
  },
  {
   "cell_type": "code",
   "execution_count": 54,
   "id": "078bcc9d-25c7-4e4b-9834-ec7189f5d3bd",
   "metadata": {},
   "outputs": [
    {
     "data": {
      "text/plain": [
       "[<matplotlib.lines.Line2D at 0x13c9661d0>]"
      ]
     },
     "execution_count": 54,
     "metadata": {},
     "output_type": "execute_result"
    },
    {
     "data": {
      "image/png": "[encoded data removed]",
      "text/plain": [
       "<Figure size 640x480 with 1 Axes>"
      ]
     },
     "metadata": {},
     "output_type": "display_data"
    }
   ],
   "source": [
    "plt.plot([r.score for r in results])"
   ]
  },
  {
   "cell_type": "code",
   "execution_count": 55,
   "id": "762ccd9b-ab77-46ee-9beb-29580bad289b",
   "metadata": {},
   "outputs": [
    {
     "name": "stderr",
     "output_type": "stream",
     "text": [
      "100%|████████████████████████████████████████████████████████████████████████████████| 40/40 [00:18<00:00,  2.16it/s]\n"
     ]
    }
   ],
   "source": [
    "q_dict = dict()\n",
    "q_dict_best = dict()\n",
    "res_best = - float(\"inf\")\n",
    "results = []\n",
    "for k in trange(40):\n",
    "    policy = create_greedy_policy(q_dict)\n",
    "    res, exp = apply_policy_exhaustive(policy, deck, gamma=0.9, epoch_no=20)\n",
    "    results.append(res)\n",
    "    if res.score > res_best:\n",
    "        q_dict_best = deepcopy(q_dict)\n",
    "        res_best = res.score\n",
    "    q_dict = evaluate_Q(exp)"
   ]
  },
  {
   "cell_type": "code",
   "execution_count": 56,
   "id": "af765c12-acf8-4591-8962-78fc5c4e8e15",
   "metadata": {},
   "outputs": [
    {
     "data": {
      "text/plain": [
       "[<matplotlib.lines.Line2D at 0x12e2186a0>]"
      ]
     },
     "execution_count": 56,
     "metadata": {},
     "output_type": "execute_result"
    },
    {
     "data": {
      "image/png": "[encoded data removed]",
      "text/plain": [
       "<Figure size 640x480 with 1 Axes>"
      ]
     },
     "metadata": {},
     "output_type": "display_data"
    }
   ],
   "source": [
    "plt.plot([r.score for r in results])"
   ]
  },
  {
   "cell_type": "code",
   "execution_count": 57,
   "id": "01c5a3b6-fb8b-4963-ba21-bfab35214e1a",
   "metadata": {},
   "outputs": [
    {
     "data": {
      "text/plain": [
       "-2069"
      ]
     },
     "execution_count": 57,
     "metadata": {},
     "output_type": "execute_result"
    }
   ],
   "source": [
    "res_best"
   ]
  },
  {
   "cell_type": "code",
   "execution_count": 58,
   "id": "f953548c-8eb8-44fd-a5a3-b30e5c534733",
   "metadata": {},
   "outputs": [
    {
     "data": {
      "text/html": [
       "<pre style=\"white-space:pre;overflow-x:auto;line-height:normal;font-family:Menlo,'DejaVu Sans Mono',consolas,'Courier New',monospace\">total <span style=\"color: #808000; text-decoration-color: #808000\">score</span>=<span style=\"color: #008080; text-decoration-color: #008080; font-weight: bold\">-2276</span>/<span style=\"color: #008080; text-decoration-color: #008080; font-weight: bold\">12400</span> games <span style=\"font-weight: bold\">(</span><span style=\"color: #008080; text-decoration-color: #008080; font-weight: bold\">-0.1835</span> per game<span style=\"font-weight: bold\">)</span> :: W <span style=\"color: #008080; text-decoration-color: #008080; font-weight: bold\">38.06</span>% | D <span style=\"color: #008080; text-decoration-color: #008080; font-weight: bold\">5.52</span>% | L <span style=\"color: #008080; text-decoration-color: #008080; font-weight: bold\">56.42</span>%\n",
       "</pre>\n"
      ],
      "text/plain": [
       "total \u001b[33mscore\u001b[0m=\u001b[1;36m-2276\u001b[0m/\u001b[1;36m12400\u001b[0m games \u001b[1m(\u001b[0m\u001b[1;36m-0.1835\u001b[0m per game\u001b[1m)\u001b[0m :: W \u001b[1;36m38.06\u001b[0m% | D \u001b[1;36m5.52\u001b[0m% | L \u001b[1;36m56.42\u001b[0m%\n"
      ]
     },
     "metadata": {},
     "output_type": "display_data"
    }
   ],
   "source": [
    "res, _ = apply_policy_exhaustive(create_greedy_policy(q_dict_best), deck, gamma=0.9, epoch_no=20)\n",
    "print(res)"
   ]
  },
  {
   "cell_type": "code",
   "execution_count": 59,
   "id": "cbc4cdae-077b-4cf9-9363-1ee4cef618ff",
   "metadata": {},
   "outputs": [
    {
     "data": {
      "text/html": [
       "<pre style=\"white-space:pre;overflow-x:auto;line-height:normal;font-family:Menlo,'DejaVu Sans Mono',consolas,'Courier New',monospace\">total <span style=\"color: #808000; text-decoration-color: #808000\">score</span>=<span style=\"color: #008080; text-decoration-color: #008080; font-weight: bold\">-2130</span>/<span style=\"color: #008080; text-decoration-color: #008080; font-weight: bold\">12400</span> games <span style=\"font-weight: bold\">(</span><span style=\"color: #008080; text-decoration-color: #008080; font-weight: bold\">-0.1718</span> per game<span style=\"font-weight: bold\">)</span> :: W <span style=\"color: #008080; text-decoration-color: #008080; font-weight: bold\">38.13</span>% | D <span style=\"color: #008080; text-decoration-color: #008080; font-weight: bold\">6.56</span>% | L <span style=\"color: #008080; text-decoration-color: #008080; font-weight: bold\">55.31</span>%\n",
       "</pre>\n"
      ],
      "text/plain": [
       "total \u001b[33mscore\u001b[0m=\u001b[1;36m-2130\u001b[0m/\u001b[1;36m12400\u001b[0m games \u001b[1m(\u001b[0m\u001b[1;36m-0.1718\u001b[0m per game\u001b[1m)\u001b[0m :: W \u001b[1;36m38.13\u001b[0m% | D \u001b[1;36m6.56\u001b[0m% | L \u001b[1;36m55.31\u001b[0m%\n"
      ]
     },
     "metadata": {},
     "output_type": "display_data"
    }
   ],
   "source": [
    "res, _ = apply_policy_exhaustive(dealer_policy, deck, gamma=0.9, epoch_no=20)\n",
    "print(res)"
   ]
  },
  {
   "cell_type": "code",
   "execution_count": null,
   "id": "bc21902c-11bb-4a80-b0d1-e0071883efc4",
   "metadata": {},
   "outputs": [],
   "source": []
  }
 ],
 "metadata": {
  "kernelspec": {
   "display_name": "Python 3 (ipykernel)",
   "language": "python",
   "name": "python3"
  },
  "language_info": {
   "codemirror_mode": {
    "name": "ipython",
    "version": 3
   },
   "file_extension": ".py",
   "mimetype": "text/x-python",
   "name": "python",
   "nbconvert_exporter": "python",
   "pygments_lexer": "ipython3",
   "version": "3.10.13"
  }
 },
 "nbformat": 4,
 "nbformat_minor": 5
}
